{
  "nbformat": 4,
  "nbformat_minor": 0,
  "metadata": {
    "colab": {
      "name": "MLP-Part-2",
      "provenance": [],
      "collapsed_sections": [
        "TgAA-7de--Bm",
        "gszIbdpATY_e",
        "OX21U_5IVhoL",
        "cRDNIh1F_CPH",
        "toxtrfRkIoqB",
        "9to6AprTIxWn"
      ],
      "authorship_tag": "ABX9TyMVVC5nViYjkYVH6YzM/c1J",
      "include_colab_link": true
    },
    "kernelspec": {
      "name": "python3",
      "display_name": "Python 3"
    },
    "language_info": {
      "name": "python"
    },
    "gpuClass": "standard"
  },
  "cells": [
    {
      "cell_type": "markdown",
      "metadata": {
        "id": "view-in-github",
        "colab_type": "text"
      },
      "source": [
        "<a href=\"https://colab.research.google.com/github/saeedgolzar/AML_Course/blob/main/Project/Part_2.ipynb\" target=\"_parent\"><img src=\"https://colab.research.google.com/assets/colab-badge.svg\" alt=\"Open In Colab\"/></a>"
      ]
    },
    {
      "cell_type": "markdown",
      "source": [
        "# Applied Machine Learning Project\n",
        "\n",
        "Saeed Golzar | Summer 2022\n",
        "\n",
        "---"
      ],
      "metadata": {
        "id": "mhhWCNOe9hVK"
      }
    },
    {
      "cell_type": "markdown",
      "source": [
        "Import libraries"
      ],
      "metadata": {
        "id": "UWcVmiGK7J84"
      }
    },
    {
      "cell_type": "code",
      "source": [
        "import re\n",
        "import random\n",
        "import pandas as pd\n",
        "import seaborn as sns\n",
        "import tensorflow as tf\n",
        "import matplotlib.pyplot as plt\n",
        "from google.colab import data_table\n",
        "from sklearn import preprocessing\n",
        "from sklearn.model_selection import train_test_split\n",
        "data_table.enable_dataframe_formatter()"
      ],
      "metadata": {
        "id": "xfhEiX917Vob",
        "cellView": "code"
      },
      "execution_count": null,
      "outputs": []
    },
    {
      "cell_type": "markdown",
      "source": [
        "# Part 2: Solve a real problem"
      ],
      "metadata": {
        "id": "cRDNIh1F_CPH"
      }
    },
    {
      "cell_type": "markdown",
      "source": [
        "## Load Weather Data"
      ],
      "metadata": {
        "id": "kCmyeii99Ge4"
      }
    },
    {
      "cell_type": "code",
      "source": [
        "!gdown --id 1uBXj5fGE1i3f7RqFhitoPPaaI2gjc967"
      ],
      "metadata": {
        "id": "0oU7lEdM366N",
        "colab": {
          "base_uri": "https://localhost:8080/"
        },
        "outputId": "e75bebbb-e326-4332-8e33-e0dd04d954db"
      },
      "execution_count": null,
      "outputs": [
        {
          "output_type": "stream",
          "name": "stdout",
          "text": [
            "/usr/local/lib/python3.7/dist-packages/gdown/cli.py:131: FutureWarning: Option `--id` was deprecated in version 4.3.1 and will be removed in 5.0. You don't need to pass it anymore to use a file ID.\n",
            "  category=FutureWarning,\n",
            "Downloading...\n",
            "From: https://drive.google.com/uc?id=1uBXj5fGE1i3f7RqFhitoPPaaI2gjc967\n",
            "To: /content/weatherAUS.csv\n",
            "100% 14.1M/14.1M [00:00<00:00, 130MB/s]\n"
          ]
        }
      ]
    },
    {
      "cell_type": "code",
      "source": [
        "weather = pd.read_csv('weatherAUS.csv')"
      ],
      "metadata": {
        "id": "Ny_CxIv-4Jdm"
      },
      "execution_count": null,
      "outputs": []
    },
    {
      "cell_type": "code",
      "source": [
        "weather.head(10)"
      ],
      "metadata": {
        "id": "WiwYptVXvmSg",
        "colab": {
          "base_uri": "https://localhost:8080/",
          "height": 647
        },
        "outputId": "b5017d0e-f638-445a-f663-7d01ab825f29"
      },
      "execution_count": null,
      "outputs": [
        {
          "output_type": "stream",
          "name": "stdout",
          "text": [
            "Warning: Total number of columns (23) exceeds max_columns (20). Falling back to pandas display.\n"
          ]
        },
        {
          "output_type": "execute_result",
          "data": {
            "text/plain": [
              "         Date Location  MinTemp  MaxTemp  Rainfall  Evaporation  Sunshine  \\\n",
              "0  2008-12-01   Albury     13.4     22.9       0.6          NaN       NaN   \n",
              "1  2008-12-02   Albury      7.4     25.1       0.0          NaN       NaN   \n",
              "2  2008-12-03   Albury     12.9     25.7       0.0          NaN       NaN   \n",
              "3  2008-12-04   Albury      9.2     28.0       0.0          NaN       NaN   \n",
              "4  2008-12-05   Albury     17.5     32.3       1.0          NaN       NaN   \n",
              "5  2008-12-06   Albury     14.6     29.7       0.2          NaN       NaN   \n",
              "6  2008-12-07   Albury     14.3     25.0       0.0          NaN       NaN   \n",
              "7  2008-12-08   Albury      7.7     26.7       0.0          NaN       NaN   \n",
              "8  2008-12-09   Albury      9.7     31.9       0.0          NaN       NaN   \n",
              "9  2008-12-10   Albury     13.1     30.1       1.4          NaN       NaN   \n",
              "\n",
              "  WindGustDir  WindGustSpeed WindDir9am  ... Humidity9am  Humidity3pm  \\\n",
              "0           W           44.0          W  ...        71.0         22.0   \n",
              "1         WNW           44.0        NNW  ...        44.0         25.0   \n",
              "2         WSW           46.0          W  ...        38.0         30.0   \n",
              "3          NE           24.0         SE  ...        45.0         16.0   \n",
              "4           W           41.0        ENE  ...        82.0         33.0   \n",
              "5         WNW           56.0          W  ...        55.0         23.0   \n",
              "6           W           50.0         SW  ...        49.0         19.0   \n",
              "7           W           35.0        SSE  ...        48.0         19.0   \n",
              "8         NNW           80.0         SE  ...        42.0          9.0   \n",
              "9           W           28.0          S  ...        58.0         27.0   \n",
              "\n",
              "   Pressure9am  Pressure3pm  Cloud9am  Cloud3pm  Temp9am  Temp3pm  RainToday  \\\n",
              "0       1007.7       1007.1       8.0       NaN     16.9     21.8         No   \n",
              "1       1010.6       1007.8       NaN       NaN     17.2     24.3         No   \n",
              "2       1007.6       1008.7       NaN       2.0     21.0     23.2         No   \n",
              "3       1017.6       1012.8       NaN       NaN     18.1     26.5         No   \n",
              "4       1010.8       1006.0       7.0       8.0     17.8     29.7         No   \n",
              "5       1009.2       1005.4       NaN       NaN     20.6     28.9         No   \n",
              "6       1009.6       1008.2       1.0       NaN     18.1     24.6         No   \n",
              "7       1013.4       1010.1       NaN       NaN     16.3     25.5         No   \n",
              "8       1008.9       1003.6       NaN       NaN     18.3     30.2         No   \n",
              "9       1007.0       1005.7       NaN       NaN     20.1     28.2        Yes   \n",
              "\n",
              "   RainTomorrow  \n",
              "0            No  \n",
              "1            No  \n",
              "2            No  \n",
              "3            No  \n",
              "4            No  \n",
              "5            No  \n",
              "6            No  \n",
              "7            No  \n",
              "8           Yes  \n",
              "9            No  \n",
              "\n",
              "[10 rows x 23 columns]"
            ],
            "text/html": [
              "\n",
              "  <div id=\"df-ed0b247c-dacc-4164-9a30-02eb1df0d163\">\n",
              "    <div class=\"colab-df-container\">\n",
              "      <div>\n",
              "<style scoped>\n",
              "    .dataframe tbody tr th:only-of-type {\n",
              "        vertical-align: middle;\n",
              "    }\n",
              "\n",
              "    .dataframe tbody tr th {\n",
              "        vertical-align: top;\n",
              "    }\n",
              "\n",
              "    .dataframe thead th {\n",
              "        text-align: right;\n",
              "    }\n",
              "</style>\n",
              "<table border=\"1\" class=\"dataframe\">\n",
              "  <thead>\n",
              "    <tr style=\"text-align: right;\">\n",
              "      <th></th>\n",
              "      <th>Date</th>\n",
              "      <th>Location</th>\n",
              "      <th>MinTemp</th>\n",
              "      <th>MaxTemp</th>\n",
              "      <th>Rainfall</th>\n",
              "      <th>Evaporation</th>\n",
              "      <th>Sunshine</th>\n",
              "      <th>WindGustDir</th>\n",
              "      <th>WindGustSpeed</th>\n",
              "      <th>WindDir9am</th>\n",
              "      <th>...</th>\n",
              "      <th>Humidity9am</th>\n",
              "      <th>Humidity3pm</th>\n",
              "      <th>Pressure9am</th>\n",
              "      <th>Pressure3pm</th>\n",
              "      <th>Cloud9am</th>\n",
              "      <th>Cloud3pm</th>\n",
              "      <th>Temp9am</th>\n",
              "      <th>Temp3pm</th>\n",
              "      <th>RainToday</th>\n",
              "      <th>RainTomorrow</th>\n",
              "    </tr>\n",
              "  </thead>\n",
              "  <tbody>\n",
              "    <tr>\n",
              "      <th>0</th>\n",
              "      <td>2008-12-01</td>\n",
              "      <td>Albury</td>\n",
              "      <td>13.4</td>\n",
              "      <td>22.9</td>\n",
              "      <td>0.6</td>\n",
              "      <td>NaN</td>\n",
              "      <td>NaN</td>\n",
              "      <td>W</td>\n",
              "      <td>44.0</td>\n",
              "      <td>W</td>\n",
              "      <td>...</td>\n",
              "      <td>71.0</td>\n",
              "      <td>22.0</td>\n",
              "      <td>1007.7</td>\n",
              "      <td>1007.1</td>\n",
              "      <td>8.0</td>\n",
              "      <td>NaN</td>\n",
              "      <td>16.9</td>\n",
              "      <td>21.8</td>\n",
              "      <td>No</td>\n",
              "      <td>No</td>\n",
              "    </tr>\n",
              "    <tr>\n",
              "      <th>1</th>\n",
              "      <td>2008-12-02</td>\n",
              "      <td>Albury</td>\n",
              "      <td>7.4</td>\n",
              "      <td>25.1</td>\n",
              "      <td>0.0</td>\n",
              "      <td>NaN</td>\n",
              "      <td>NaN</td>\n",
              "      <td>WNW</td>\n",
              "      <td>44.0</td>\n",
              "      <td>NNW</td>\n",
              "      <td>...</td>\n",
              "      <td>44.0</td>\n",
              "      <td>25.0</td>\n",
              "      <td>1010.6</td>\n",
              "      <td>1007.8</td>\n",
              "      <td>NaN</td>\n",
              "      <td>NaN</td>\n",
              "      <td>17.2</td>\n",
              "      <td>24.3</td>\n",
              "      <td>No</td>\n",
              "      <td>No</td>\n",
              "    </tr>\n",
              "    <tr>\n",
              "      <th>2</th>\n",
              "      <td>2008-12-03</td>\n",
              "      <td>Albury</td>\n",
              "      <td>12.9</td>\n",
              "      <td>25.7</td>\n",
              "      <td>0.0</td>\n",
              "      <td>NaN</td>\n",
              "      <td>NaN</td>\n",
              "      <td>WSW</td>\n",
              "      <td>46.0</td>\n",
              "      <td>W</td>\n",
              "      <td>...</td>\n",
              "      <td>38.0</td>\n",
              "      <td>30.0</td>\n",
              "      <td>1007.6</td>\n",
              "      <td>1008.7</td>\n",
              "      <td>NaN</td>\n",
              "      <td>2.0</td>\n",
              "      <td>21.0</td>\n",
              "      <td>23.2</td>\n",
              "      <td>No</td>\n",
              "      <td>No</td>\n",
              "    </tr>\n",
              "    <tr>\n",
              "      <th>3</th>\n",
              "      <td>2008-12-04</td>\n",
              "      <td>Albury</td>\n",
              "      <td>9.2</td>\n",
              "      <td>28.0</td>\n",
              "      <td>0.0</td>\n",
              "      <td>NaN</td>\n",
              "      <td>NaN</td>\n",
              "      <td>NE</td>\n",
              "      <td>24.0</td>\n",
              "      <td>SE</td>\n",
              "      <td>...</td>\n",
              "      <td>45.0</td>\n",
              "      <td>16.0</td>\n",
              "      <td>1017.6</td>\n",
              "      <td>1012.8</td>\n",
              "      <td>NaN</td>\n",
              "      <td>NaN</td>\n",
              "      <td>18.1</td>\n",
              "      <td>26.5</td>\n",
              "      <td>No</td>\n",
              "      <td>No</td>\n",
              "    </tr>\n",
              "    <tr>\n",
              "      <th>4</th>\n",
              "      <td>2008-12-05</td>\n",
              "      <td>Albury</td>\n",
              "      <td>17.5</td>\n",
              "      <td>32.3</td>\n",
              "      <td>1.0</td>\n",
              "      <td>NaN</td>\n",
              "      <td>NaN</td>\n",
              "      <td>W</td>\n",
              "      <td>41.0</td>\n",
              "      <td>ENE</td>\n",
              "      <td>...</td>\n",
              "      <td>82.0</td>\n",
              "      <td>33.0</td>\n",
              "      <td>1010.8</td>\n",
              "      <td>1006.0</td>\n",
              "      <td>7.0</td>\n",
              "      <td>8.0</td>\n",
              "      <td>17.8</td>\n",
              "      <td>29.7</td>\n",
              "      <td>No</td>\n",
              "      <td>No</td>\n",
              "    </tr>\n",
              "    <tr>\n",
              "      <th>5</th>\n",
              "      <td>2008-12-06</td>\n",
              "      <td>Albury</td>\n",
              "      <td>14.6</td>\n",
              "      <td>29.7</td>\n",
              "      <td>0.2</td>\n",
              "      <td>NaN</td>\n",
              "      <td>NaN</td>\n",
              "      <td>WNW</td>\n",
              "      <td>56.0</td>\n",
              "      <td>W</td>\n",
              "      <td>...</td>\n",
              "      <td>55.0</td>\n",
              "      <td>23.0</td>\n",
              "      <td>1009.2</td>\n",
              "      <td>1005.4</td>\n",
              "      <td>NaN</td>\n",
              "      <td>NaN</td>\n",
              "      <td>20.6</td>\n",
              "      <td>28.9</td>\n",
              "      <td>No</td>\n",
              "      <td>No</td>\n",
              "    </tr>\n",
              "    <tr>\n",
              "      <th>6</th>\n",
              "      <td>2008-12-07</td>\n",
              "      <td>Albury</td>\n",
              "      <td>14.3</td>\n",
              "      <td>25.0</td>\n",
              "      <td>0.0</td>\n",
              "      <td>NaN</td>\n",
              "      <td>NaN</td>\n",
              "      <td>W</td>\n",
              "      <td>50.0</td>\n",
              "      <td>SW</td>\n",
              "      <td>...</td>\n",
              "      <td>49.0</td>\n",
              "      <td>19.0</td>\n",
              "      <td>1009.6</td>\n",
              "      <td>1008.2</td>\n",
              "      <td>1.0</td>\n",
              "      <td>NaN</td>\n",
              "      <td>18.1</td>\n",
              "      <td>24.6</td>\n",
              "      <td>No</td>\n",
              "      <td>No</td>\n",
              "    </tr>\n",
              "    <tr>\n",
              "      <th>7</th>\n",
              "      <td>2008-12-08</td>\n",
              "      <td>Albury</td>\n",
              "      <td>7.7</td>\n",
              "      <td>26.7</td>\n",
              "      <td>0.0</td>\n",
              "      <td>NaN</td>\n",
              "      <td>NaN</td>\n",
              "      <td>W</td>\n",
              "      <td>35.0</td>\n",
              "      <td>SSE</td>\n",
              "      <td>...</td>\n",
              "      <td>48.0</td>\n",
              "      <td>19.0</td>\n",
              "      <td>1013.4</td>\n",
              "      <td>1010.1</td>\n",
              "      <td>NaN</td>\n",
              "      <td>NaN</td>\n",
              "      <td>16.3</td>\n",
              "      <td>25.5</td>\n",
              "      <td>No</td>\n",
              "      <td>No</td>\n",
              "    </tr>\n",
              "    <tr>\n",
              "      <th>8</th>\n",
              "      <td>2008-12-09</td>\n",
              "      <td>Albury</td>\n",
              "      <td>9.7</td>\n",
              "      <td>31.9</td>\n",
              "      <td>0.0</td>\n",
              "      <td>NaN</td>\n",
              "      <td>NaN</td>\n",
              "      <td>NNW</td>\n",
              "      <td>80.0</td>\n",
              "      <td>SE</td>\n",
              "      <td>...</td>\n",
              "      <td>42.0</td>\n",
              "      <td>9.0</td>\n",
              "      <td>1008.9</td>\n",
              "      <td>1003.6</td>\n",
              "      <td>NaN</td>\n",
              "      <td>NaN</td>\n",
              "      <td>18.3</td>\n",
              "      <td>30.2</td>\n",
              "      <td>No</td>\n",
              "      <td>Yes</td>\n",
              "    </tr>\n",
              "    <tr>\n",
              "      <th>9</th>\n",
              "      <td>2008-12-10</td>\n",
              "      <td>Albury</td>\n",
              "      <td>13.1</td>\n",
              "      <td>30.1</td>\n",
              "      <td>1.4</td>\n",
              "      <td>NaN</td>\n",
              "      <td>NaN</td>\n",
              "      <td>W</td>\n",
              "      <td>28.0</td>\n",
              "      <td>S</td>\n",
              "      <td>...</td>\n",
              "      <td>58.0</td>\n",
              "      <td>27.0</td>\n",
              "      <td>1007.0</td>\n",
              "      <td>1005.7</td>\n",
              "      <td>NaN</td>\n",
              "      <td>NaN</td>\n",
              "      <td>20.1</td>\n",
              "      <td>28.2</td>\n",
              "      <td>Yes</td>\n",
              "      <td>No</td>\n",
              "    </tr>\n",
              "  </tbody>\n",
              "</table>\n",
              "<p>10 rows × 23 columns</p>\n",
              "</div>\n",
              "      <button class=\"colab-df-convert\" onclick=\"convertToInteractive('df-ed0b247c-dacc-4164-9a30-02eb1df0d163')\"\n",
              "              title=\"Convert this dataframe to an interactive table.\"\n",
              "              style=\"display:none;\">\n",
              "        \n",
              "  <svg xmlns=\"http://www.w3.org/2000/svg\" height=\"24px\"viewBox=\"0 0 24 24\"\n",
              "       width=\"24px\">\n",
              "    <path d=\"M0 0h24v24H0V0z\" fill=\"none\"/>\n",
              "    <path d=\"M18.56 5.44l.94 2.06.94-2.06 2.06-.94-2.06-.94-.94-2.06-.94 2.06-2.06.94zm-11 1L8.5 8.5l.94-2.06 2.06-.94-2.06-.94L8.5 2.5l-.94 2.06-2.06.94zm10 10l.94 2.06.94-2.06 2.06-.94-2.06-.94-.94-2.06-.94 2.06-2.06.94z\"/><path d=\"M17.41 7.96l-1.37-1.37c-.4-.4-.92-.59-1.43-.59-.52 0-1.04.2-1.43.59L10.3 9.45l-7.72 7.72c-.78.78-.78 2.05 0 2.83L4 21.41c.39.39.9.59 1.41.59.51 0 1.02-.2 1.41-.59l7.78-7.78 2.81-2.81c.8-.78.8-2.07 0-2.86zM5.41 20L4 18.59l7.72-7.72 1.47 1.35L5.41 20z\"/>\n",
              "  </svg>\n",
              "      </button>\n",
              "      \n",
              "  <style>\n",
              "    .colab-df-container {\n",
              "      display:flex;\n",
              "      flex-wrap:wrap;\n",
              "      gap: 12px;\n",
              "    }\n",
              "\n",
              "    .colab-df-convert {\n",
              "      background-color: #E8F0FE;\n",
              "      border: none;\n",
              "      border-radius: 50%;\n",
              "      cursor: pointer;\n",
              "      display: none;\n",
              "      fill: #1967D2;\n",
              "      height: 32px;\n",
              "      padding: 0 0 0 0;\n",
              "      width: 32px;\n",
              "    }\n",
              "\n",
              "    .colab-df-convert:hover {\n",
              "      background-color: #E2EBFA;\n",
              "      box-shadow: 0px 1px 2px rgba(60, 64, 67, 0.3), 0px 1px 3px 1px rgba(60, 64, 67, 0.15);\n",
              "      fill: #174EA6;\n",
              "    }\n",
              "\n",
              "    [theme=dark] .colab-df-convert {\n",
              "      background-color: #3B4455;\n",
              "      fill: #D2E3FC;\n",
              "    }\n",
              "\n",
              "    [theme=dark] .colab-df-convert:hover {\n",
              "      background-color: #434B5C;\n",
              "      box-shadow: 0px 1px 3px 1px rgba(0, 0, 0, 0.15);\n",
              "      filter: drop-shadow(0px 1px 2px rgba(0, 0, 0, 0.3));\n",
              "      fill: #FFFFFF;\n",
              "    }\n",
              "  </style>\n",
              "\n",
              "      <script>\n",
              "        const buttonEl =\n",
              "          document.querySelector('#df-ed0b247c-dacc-4164-9a30-02eb1df0d163 button.colab-df-convert');\n",
              "        buttonEl.style.display =\n",
              "          google.colab.kernel.accessAllowed ? 'block' : 'none';\n",
              "\n",
              "        async function convertToInteractive(key) {\n",
              "          const element = document.querySelector('#df-ed0b247c-dacc-4164-9a30-02eb1df0d163');\n",
              "          const dataTable =\n",
              "            await google.colab.kernel.invokeFunction('convertToInteractive',\n",
              "                                                     [key], {});\n",
              "          if (!dataTable) return;\n",
              "\n",
              "          const docLinkHtml = 'Like what you see? Visit the ' +\n",
              "            '<a target=\"_blank\" href=https://colab.research.google.com/notebooks/data_table.ipynb>data table notebook</a>'\n",
              "            + ' to learn more about interactive tables.';\n",
              "          element.innerHTML = '';\n",
              "          dataTable['output_type'] = 'display_data';\n",
              "          await google.colab.output.renderOutput(dataTable, element);\n",
              "          const docLink = document.createElement('div');\n",
              "          docLink.innerHTML = docLinkHtml;\n",
              "          element.appendChild(docLink);\n",
              "        }\n",
              "      </script>\n",
              "    </div>\n",
              "  </div>\n",
              "  "
            ]
          },
          "metadata": {},
          "execution_count": 4
        }
      ]
    },
    {
      "cell_type": "code",
      "source": [
        "weather.columns"
      ],
      "metadata": {
        "id": "Gnrw19WgvsZg",
        "colab": {
          "base_uri": "https://localhost:8080/"
        },
        "outputId": "6db3e34e-d253-4a14-ed5c-50ad8fe81df3"
      },
      "execution_count": null,
      "outputs": [
        {
          "output_type": "execute_result",
          "data": {
            "text/plain": [
              "Index(['Date', 'Location', 'MinTemp', 'MaxTemp', 'Rainfall', 'Evaporation',\n",
              "       'Sunshine', 'WindGustDir', 'WindGustSpeed', 'WindDir9am', 'WindDir3pm',\n",
              "       'WindSpeed9am', 'WindSpeed3pm', 'Humidity9am', 'Humidity3pm',\n",
              "       'Pressure9am', 'Pressure3pm', 'Cloud9am', 'Cloud3pm', 'Temp9am',\n",
              "       'Temp3pm', 'RainToday', 'RainTomorrow'],\n",
              "      dtype='object')"
            ]
          },
          "metadata": {},
          "execution_count": 5
        }
      ]
    },
    {
      "cell_type": "markdown",
      "source": [
        "## Preprocessing"
      ],
      "metadata": {
        "id": "mP4HY1su9Mcj"
      }
    },
    {
      "cell_type": "code",
      "source": [
        "weather.info()"
      ],
      "metadata": {
        "id": "phpRIc1h4b_h",
        "colab": {
          "base_uri": "https://localhost:8080/"
        },
        "outputId": "48e333fb-dc06-4f26-81ee-cdc52bea5ea4"
      },
      "execution_count": null,
      "outputs": [
        {
          "output_type": "stream",
          "name": "stdout",
          "text": [
            "<class 'pandas.core.frame.DataFrame'>\n",
            "RangeIndex: 145460 entries, 0 to 145459\n",
            "Data columns (total 23 columns):\n",
            " #   Column         Non-Null Count   Dtype  \n",
            "---  ------         --------------   -----  \n",
            " 0   Date           145460 non-null  object \n",
            " 1   Location       145460 non-null  object \n",
            " 2   MinTemp        143975 non-null  float64\n",
            " 3   MaxTemp        144199 non-null  float64\n",
            " 4   Rainfall       142199 non-null  float64\n",
            " 5   Evaporation    82670 non-null   float64\n",
            " 6   Sunshine       75625 non-null   float64\n",
            " 7   WindGustDir    135134 non-null  object \n",
            " 8   WindGustSpeed  135197 non-null  float64\n",
            " 9   WindDir9am     134894 non-null  object \n",
            " 10  WindDir3pm     141232 non-null  object \n",
            " 11  WindSpeed9am   143693 non-null  float64\n",
            " 12  WindSpeed3pm   142398 non-null  float64\n",
            " 13  Humidity9am    142806 non-null  float64\n",
            " 14  Humidity3pm    140953 non-null  float64\n",
            " 15  Pressure9am    130395 non-null  float64\n",
            " 16  Pressure3pm    130432 non-null  float64\n",
            " 17  Cloud9am       89572 non-null   float64\n",
            " 18  Cloud3pm       86102 non-null   float64\n",
            " 19  Temp9am        143693 non-null  float64\n",
            " 20  Temp3pm        141851 non-null  float64\n",
            " 21  RainToday      142199 non-null  object \n",
            " 22  RainTomorrow   142193 non-null  object \n",
            "dtypes: float64(16), object(7)\n",
            "memory usage: 25.5+ MB\n"
          ]
        }
      ]
    },
    {
      "cell_type": "code",
      "source": [
        "weather = weather.dropna(subset=['RainTomorrow'])"
      ],
      "metadata": {
        "id": "eamvisRjxKLq"
      },
      "execution_count": null,
      "outputs": []
    },
    {
      "cell_type": "code",
      "source": [
        "weather.isnull().sum()"
      ],
      "metadata": {
        "id": "fH5AtKFiVsGI",
        "colab": {
          "base_uri": "https://localhost:8080/"
        },
        "outputId": "629a8632-200a-464f-8319-42ff16a2a135"
      },
      "execution_count": null,
      "outputs": [
        {
          "output_type": "execute_result",
          "data": {
            "text/plain": [
              "Date                 0\n",
              "Location             0\n",
              "MinTemp            637\n",
              "MaxTemp            322\n",
              "Rainfall          1406\n",
              "Evaporation      60843\n",
              "Sunshine         67816\n",
              "WindGustDir       9330\n",
              "WindGustSpeed     9270\n",
              "WindDir9am       10013\n",
              "WindDir3pm        3778\n",
              "WindSpeed9am      1348\n",
              "WindSpeed3pm      2630\n",
              "Humidity9am       1774\n",
              "Humidity3pm       3610\n",
              "Pressure9am      14014\n",
              "Pressure3pm      13981\n",
              "Cloud9am         53657\n",
              "Cloud3pm         57094\n",
              "Temp9am            904\n",
              "Temp3pm           2726\n",
              "RainToday         1406\n",
              "RainTomorrow         0\n",
              "dtype: int64"
            ]
          },
          "metadata": {},
          "execution_count": 8
        }
      ]
    },
    {
      "cell_type": "code",
      "source": [
        "weather.describe()"
      ],
      "metadata": {
        "id": "AqEAr6NowC_a",
        "colab": {
          "base_uri": "https://localhost:8080/",
          "height": 279
        },
        "outputId": "9b906578-16f4-4d05-cefc-043faf75a6b2"
      },
      "execution_count": null,
      "outputs": [
        {
          "output_type": "execute_result",
          "data": {
            "text/plain": [
              "             MinTemp        MaxTemp       Rainfall   Evaporation  \\\n",
              "count  141556.000000  141871.000000  140787.000000  81350.000000   \n",
              "mean       12.186400      23.226784       2.349974      5.469824   \n",
              "std         6.403283       7.117618       8.465173      4.188537   \n",
              "min        -8.500000      -4.800000       0.000000      0.000000   \n",
              "25%         7.600000      17.900000       0.000000      2.600000   \n",
              "50%        12.000000      22.600000       0.000000      4.800000   \n",
              "75%        16.800000      28.200000       0.800000      7.400000   \n",
              "max        33.900000      48.100000     371.000000    145.000000   \n",
              "\n",
              "           Sunshine  WindGustSpeed   WindSpeed9am   WindSpeed3pm  \\\n",
              "count  74377.000000  132923.000000  140845.000000  139563.000000   \n",
              "mean       7.624853      39.984292      14.001988      18.637576   \n",
              "std        3.781525      13.588801       8.893337       8.803345   \n",
              "min        0.000000       6.000000       0.000000       0.000000   \n",
              "25%        4.900000      31.000000       7.000000      13.000000   \n",
              "50%        8.500000      39.000000      13.000000      19.000000   \n",
              "75%       10.600000      48.000000      19.000000      24.000000   \n",
              "max       14.500000     135.000000     130.000000      87.000000   \n",
              "\n",
              "         Humidity9am    Humidity3pm    Pressure9am    Pressure3pm  \\\n",
              "count  140419.000000  138583.000000  128179.000000  128212.000000   \n",
              "mean       68.843810      51.482606    1017.653758    1015.258204   \n",
              "std        19.051293      20.797772       7.105476       7.036677   \n",
              "min         0.000000       0.000000     980.500000     977.100000   \n",
              "25%        57.000000      37.000000    1012.900000    1010.400000   \n",
              "50%        70.000000      52.000000    1017.600000    1015.200000   \n",
              "75%        83.000000      66.000000    1022.400000    1020.000000   \n",
              "max       100.000000     100.000000    1041.000000    1039.600000   \n",
              "\n",
              "           Cloud9am      Cloud3pm        Temp9am        Temp3pm  \n",
              "count  88536.000000  85099.000000  141289.000000  139467.000000  \n",
              "mean       4.437189      4.503167      16.987509      21.687235  \n",
              "std        2.887016      2.720633       6.492838       6.937594  \n",
              "min        0.000000      0.000000      -7.200000      -5.400000  \n",
              "25%        1.000000      2.000000      12.300000      16.600000  \n",
              "50%        5.000000      5.000000      16.700000      21.100000  \n",
              "75%        7.000000      7.000000      21.600000      26.400000  \n",
              "max        9.000000      9.000000      40.200000      46.700000  "
            ],
            "text/html": [
              "\n",
              "  <div id=\"df-effd173c-aa6f-451b-8bc9-5f9e6d3f588a\">\n",
              "    <div class=\"colab-df-container\">\n",
              "      <div>\n",
              "<style scoped>\n",
              "    .dataframe tbody tr th:only-of-type {\n",
              "        vertical-align: middle;\n",
              "    }\n",
              "\n",
              "    .dataframe tbody tr th {\n",
              "        vertical-align: top;\n",
              "    }\n",
              "\n",
              "    .dataframe thead th {\n",
              "        text-align: right;\n",
              "    }\n",
              "</style>\n",
              "<table border=\"1\" class=\"dataframe\">\n",
              "  <thead>\n",
              "    <tr style=\"text-align: right;\">\n",
              "      <th></th>\n",
              "      <th>MinTemp</th>\n",
              "      <th>MaxTemp</th>\n",
              "      <th>Rainfall</th>\n",
              "      <th>Evaporation</th>\n",
              "      <th>Sunshine</th>\n",
              "      <th>WindGustSpeed</th>\n",
              "      <th>WindSpeed9am</th>\n",
              "      <th>WindSpeed3pm</th>\n",
              "      <th>Humidity9am</th>\n",
              "      <th>Humidity3pm</th>\n",
              "      <th>Pressure9am</th>\n",
              "      <th>Pressure3pm</th>\n",
              "      <th>Cloud9am</th>\n",
              "      <th>Cloud3pm</th>\n",
              "      <th>Temp9am</th>\n",
              "      <th>Temp3pm</th>\n",
              "    </tr>\n",
              "  </thead>\n",
              "  <tbody>\n",
              "    <tr>\n",
              "      <th>count</th>\n",
              "      <td>141556.000000</td>\n",
              "      <td>141871.000000</td>\n",
              "      <td>140787.000000</td>\n",
              "      <td>81350.000000</td>\n",
              "      <td>74377.000000</td>\n",
              "      <td>132923.000000</td>\n",
              "      <td>140845.000000</td>\n",
              "      <td>139563.000000</td>\n",
              "      <td>140419.000000</td>\n",
              "      <td>138583.000000</td>\n",
              "      <td>128179.000000</td>\n",
              "      <td>128212.000000</td>\n",
              "      <td>88536.000000</td>\n",
              "      <td>85099.000000</td>\n",
              "      <td>141289.000000</td>\n",
              "      <td>139467.000000</td>\n",
              "    </tr>\n",
              "    <tr>\n",
              "      <th>mean</th>\n",
              "      <td>12.186400</td>\n",
              "      <td>23.226784</td>\n",
              "      <td>2.349974</td>\n",
              "      <td>5.469824</td>\n",
              "      <td>7.624853</td>\n",
              "      <td>39.984292</td>\n",
              "      <td>14.001988</td>\n",
              "      <td>18.637576</td>\n",
              "      <td>68.843810</td>\n",
              "      <td>51.482606</td>\n",
              "      <td>1017.653758</td>\n",
              "      <td>1015.258204</td>\n",
              "      <td>4.437189</td>\n",
              "      <td>4.503167</td>\n",
              "      <td>16.987509</td>\n",
              "      <td>21.687235</td>\n",
              "    </tr>\n",
              "    <tr>\n",
              "      <th>std</th>\n",
              "      <td>6.403283</td>\n",
              "      <td>7.117618</td>\n",
              "      <td>8.465173</td>\n",
              "      <td>4.188537</td>\n",
              "      <td>3.781525</td>\n",
              "      <td>13.588801</td>\n",
              "      <td>8.893337</td>\n",
              "      <td>8.803345</td>\n",
              "      <td>19.051293</td>\n",
              "      <td>20.797772</td>\n",
              "      <td>7.105476</td>\n",
              "      <td>7.036677</td>\n",
              "      <td>2.887016</td>\n",
              "      <td>2.720633</td>\n",
              "      <td>6.492838</td>\n",
              "      <td>6.937594</td>\n",
              "    </tr>\n",
              "    <tr>\n",
              "      <th>min</th>\n",
              "      <td>-8.500000</td>\n",
              "      <td>-4.800000</td>\n",
              "      <td>0.000000</td>\n",
              "      <td>0.000000</td>\n",
              "      <td>0.000000</td>\n",
              "      <td>6.000000</td>\n",
              "      <td>0.000000</td>\n",
              "      <td>0.000000</td>\n",
              "      <td>0.000000</td>\n",
              "      <td>0.000000</td>\n",
              "      <td>980.500000</td>\n",
              "      <td>977.100000</td>\n",
              "      <td>0.000000</td>\n",
              "      <td>0.000000</td>\n",
              "      <td>-7.200000</td>\n",
              "      <td>-5.400000</td>\n",
              "    </tr>\n",
              "    <tr>\n",
              "      <th>25%</th>\n",
              "      <td>7.600000</td>\n",
              "      <td>17.900000</td>\n",
              "      <td>0.000000</td>\n",
              "      <td>2.600000</td>\n",
              "      <td>4.900000</td>\n",
              "      <td>31.000000</td>\n",
              "      <td>7.000000</td>\n",
              "      <td>13.000000</td>\n",
              "      <td>57.000000</td>\n",
              "      <td>37.000000</td>\n",
              "      <td>1012.900000</td>\n",
              "      <td>1010.400000</td>\n",
              "      <td>1.000000</td>\n",
              "      <td>2.000000</td>\n",
              "      <td>12.300000</td>\n",
              "      <td>16.600000</td>\n",
              "    </tr>\n",
              "    <tr>\n",
              "      <th>50%</th>\n",
              "      <td>12.000000</td>\n",
              "      <td>22.600000</td>\n",
              "      <td>0.000000</td>\n",
              "      <td>4.800000</td>\n",
              "      <td>8.500000</td>\n",
              "      <td>39.000000</td>\n",
              "      <td>13.000000</td>\n",
              "      <td>19.000000</td>\n",
              "      <td>70.000000</td>\n",
              "      <td>52.000000</td>\n",
              "      <td>1017.600000</td>\n",
              "      <td>1015.200000</td>\n",
              "      <td>5.000000</td>\n",
              "      <td>5.000000</td>\n",
              "      <td>16.700000</td>\n",
              "      <td>21.100000</td>\n",
              "    </tr>\n",
              "    <tr>\n",
              "      <th>75%</th>\n",
              "      <td>16.800000</td>\n",
              "      <td>28.200000</td>\n",
              "      <td>0.800000</td>\n",
              "      <td>7.400000</td>\n",
              "      <td>10.600000</td>\n",
              "      <td>48.000000</td>\n",
              "      <td>19.000000</td>\n",
              "      <td>24.000000</td>\n",
              "      <td>83.000000</td>\n",
              "      <td>66.000000</td>\n",
              "      <td>1022.400000</td>\n",
              "      <td>1020.000000</td>\n",
              "      <td>7.000000</td>\n",
              "      <td>7.000000</td>\n",
              "      <td>21.600000</td>\n",
              "      <td>26.400000</td>\n",
              "    </tr>\n",
              "    <tr>\n",
              "      <th>max</th>\n",
              "      <td>33.900000</td>\n",
              "      <td>48.100000</td>\n",
              "      <td>371.000000</td>\n",
              "      <td>145.000000</td>\n",
              "      <td>14.500000</td>\n",
              "      <td>135.000000</td>\n",
              "      <td>130.000000</td>\n",
              "      <td>87.000000</td>\n",
              "      <td>100.000000</td>\n",
              "      <td>100.000000</td>\n",
              "      <td>1041.000000</td>\n",
              "      <td>1039.600000</td>\n",
              "      <td>9.000000</td>\n",
              "      <td>9.000000</td>\n",
              "      <td>40.200000</td>\n",
              "      <td>46.700000</td>\n",
              "    </tr>\n",
              "  </tbody>\n",
              "</table>\n",
              "</div>\n",
              "      <button class=\"colab-df-convert\" onclick=\"convertToInteractive('df-effd173c-aa6f-451b-8bc9-5f9e6d3f588a')\"\n",
              "              title=\"Convert this dataframe to an interactive table.\"\n",
              "              style=\"display:none;\">\n",
              "        \n",
              "  <svg xmlns=\"http://www.w3.org/2000/svg\" height=\"24px\"viewBox=\"0 0 24 24\"\n",
              "       width=\"24px\">\n",
              "    <path d=\"M0 0h24v24H0V0z\" fill=\"none\"/>\n",
              "    <path d=\"M18.56 5.44l.94 2.06.94-2.06 2.06-.94-2.06-.94-.94-2.06-.94 2.06-2.06.94zm-11 1L8.5 8.5l.94-2.06 2.06-.94-2.06-.94L8.5 2.5l-.94 2.06-2.06.94zm10 10l.94 2.06.94-2.06 2.06-.94-2.06-.94-.94-2.06-.94 2.06-2.06.94z\"/><path d=\"M17.41 7.96l-1.37-1.37c-.4-.4-.92-.59-1.43-.59-.52 0-1.04.2-1.43.59L10.3 9.45l-7.72 7.72c-.78.78-.78 2.05 0 2.83L4 21.41c.39.39.9.59 1.41.59.51 0 1.02-.2 1.41-.59l7.78-7.78 2.81-2.81c.8-.78.8-2.07 0-2.86zM5.41 20L4 18.59l7.72-7.72 1.47 1.35L5.41 20z\"/>\n",
              "  </svg>\n",
              "      </button>\n",
              "      \n",
              "  <style>\n",
              "    .colab-df-container {\n",
              "      display:flex;\n",
              "      flex-wrap:wrap;\n",
              "      gap: 12px;\n",
              "    }\n",
              "\n",
              "    .colab-df-convert {\n",
              "      background-color: #E8F0FE;\n",
              "      border: none;\n",
              "      border-radius: 50%;\n",
              "      cursor: pointer;\n",
              "      display: none;\n",
              "      fill: #1967D2;\n",
              "      height: 32px;\n",
              "      padding: 0 0 0 0;\n",
              "      width: 32px;\n",
              "    }\n",
              "\n",
              "    .colab-df-convert:hover {\n",
              "      background-color: #E2EBFA;\n",
              "      box-shadow: 0px 1px 2px rgba(60, 64, 67, 0.3), 0px 1px 3px 1px rgba(60, 64, 67, 0.15);\n",
              "      fill: #174EA6;\n",
              "    }\n",
              "\n",
              "    [theme=dark] .colab-df-convert {\n",
              "      background-color: #3B4455;\n",
              "      fill: #D2E3FC;\n",
              "    }\n",
              "\n",
              "    [theme=dark] .colab-df-convert:hover {\n",
              "      background-color: #434B5C;\n",
              "      box-shadow: 0px 1px 3px 1px rgba(0, 0, 0, 0.15);\n",
              "      filter: drop-shadow(0px 1px 2px rgba(0, 0, 0, 0.3));\n",
              "      fill: #FFFFFF;\n",
              "    }\n",
              "  </style>\n",
              "\n",
              "      <script>\n",
              "        const buttonEl =\n",
              "          document.querySelector('#df-effd173c-aa6f-451b-8bc9-5f9e6d3f588a button.colab-df-convert');\n",
              "        buttonEl.style.display =\n",
              "          google.colab.kernel.accessAllowed ? 'block' : 'none';\n",
              "\n",
              "        async function convertToInteractive(key) {\n",
              "          const element = document.querySelector('#df-effd173c-aa6f-451b-8bc9-5f9e6d3f588a');\n",
              "          const dataTable =\n",
              "            await google.colab.kernel.invokeFunction('convertToInteractive',\n",
              "                                                     [key], {});\n",
              "          if (!dataTable) return;\n",
              "\n",
              "          const docLinkHtml = 'Like what you see? Visit the ' +\n",
              "            '<a target=\"_blank\" href=https://colab.research.google.com/notebooks/data_table.ipynb>data table notebook</a>'\n",
              "            + ' to learn more about interactive tables.';\n",
              "          element.innerHTML = '';\n",
              "          dataTable['output_type'] = 'display_data';\n",
              "          await google.colab.output.renderOutput(dataTable, element);\n",
              "          const docLink = document.createElement('div');\n",
              "          docLink.innerHTML = docLinkHtml;\n",
              "          element.appendChild(docLink);\n",
              "        }\n",
              "      </script>\n",
              "    </div>\n",
              "  </div>\n",
              "  "
            ],
            "application/vnd.google.colaboratory.module+javascript": "\n      import \"https://ssl.gstatic.com/colaboratory/data_table/a8bd4d5e58f96183/data_table.js\";\n\n      window.createDataTable({\n        data: [[\"count\",\n{\n            'v': 141556.0,\n            'f': \"141556.0\",\n        },\n{\n            'v': 141871.0,\n            'f': \"141871.0\",\n        },\n{\n            'v': 140787.0,\n            'f': \"140787.0\",\n        },\n{\n            'v': 81350.0,\n            'f': \"81350.0\",\n        },\n{\n            'v': 74377.0,\n            'f': \"74377.0\",\n        },\n{\n            'v': 132923.0,\n            'f': \"132923.0\",\n        },\n{\n            'v': 140845.0,\n            'f': \"140845.0\",\n        },\n{\n            'v': 139563.0,\n            'f': \"139563.0\",\n        },\n{\n            'v': 140419.0,\n            'f': \"140419.0\",\n        },\n{\n            'v': 138583.0,\n            'f': \"138583.0\",\n        },\n{\n            'v': 128179.0,\n            'f': \"128179.0\",\n        },\n{\n            'v': 128212.0,\n            'f': \"128212.0\",\n        },\n{\n            'v': 88536.0,\n            'f': \"88536.0\",\n        },\n{\n            'v': 85099.0,\n            'f': \"85099.0\",\n        },\n{\n            'v': 141289.0,\n            'f': \"141289.0\",\n        },\n{\n            'v': 139467.0,\n            'f': \"139467.0\",\n        }],\n [\"mean\",\n{\n            'v': 12.186399728729265,\n            'f': \"12.186399728729265\",\n        },\n{\n            'v': 23.226784191272355,\n            'f': \"23.226784191272355\",\n        },\n{\n            'v': 2.349974074310838,\n            'f': \"2.349974074310838\",\n        },\n{\n            'v': 5.469824216349109,\n            'f': \"5.469824216349109\",\n        },\n{\n            'v': 7.624853113193594,\n            'f': \"7.624853113193594\",\n        },\n{\n            'v': 39.98429165757619,\n            'f': \"39.98429165757619\",\n        },\n{\n            'v': 14.001988000994,\n            'f': \"14.001988000994\",\n        },\n{\n            'v': 18.63757586179718,\n            'f': \"18.63757586179718\",\n        },\n{\n            'v': 68.8438103105705,\n            'f': \"68.8438103105705\",\n        },\n{\n            'v': 51.482606091656265,\n            'f': \"51.482606091656265\",\n        },\n{\n            'v': 1017.6537584159653,\n            'f': \"1017.6537584159653\",\n        },\n{\n            'v': 1015.2582035378904,\n            'f': \"1015.2582035378904\",\n        },\n{\n            'v': 4.437189391885787,\n            'f': \"4.437189391885787\",\n        },\n{\n            'v': 4.503166899728551,\n            'f': \"4.503166899728551\",\n        },\n{\n            'v': 16.987508581701338,\n            'f': \"16.987508581701338\",\n        },\n{\n            'v': 21.687234973147767,\n            'f': \"21.687234973147767\",\n        }],\n [\"std\",\n{\n            'v': 6.403282674671353,\n            'f': \"6.403282674671353\",\n        },\n{\n            'v': 7.117618141018133,\n            'f': \"7.117618141018133\",\n        },\n{\n            'v': 8.465172917616462,\n            'f': \"8.465172917616462\",\n        },\n{\n            'v': 4.188536508895158,\n            'f': \"4.188536508895158\",\n        },\n{\n            'v': 3.7815249942144553,\n            'f': \"3.7815249942144553\",\n        },\n{\n            'v': 13.588800765487761,\n            'f': \"13.588800765487761\",\n        },\n{\n            'v': 8.893337098234502,\n            'f': \"8.893337098234502\",\n        },\n{\n            'v': 8.803345036235534,\n            'f': \"8.803345036235534\",\n        },\n{\n            'v': 19.051292535336177,\n            'f': \"19.051292535336177\",\n        },\n{\n            'v': 20.79777184369886,\n            'f': \"20.79777184369886\",\n        },\n{\n            'v': 7.105475711520846,\n            'f': \"7.105475711520846\",\n        },\n{\n            'v': 7.03667678349354,\n            'f': \"7.03667678349354\",\n        },\n{\n            'v': 2.887015525733593,\n            'f': \"2.887015525733593\",\n        },\n{\n            'v': 2.7206325304036647,\n            'f': \"2.7206325304036647\",\n        },\n{\n            'v': 6.4928383254788855,\n            'f': \"6.4928383254788855\",\n        },\n{\n            'v': 6.93759386853372,\n            'f': \"6.93759386853372\",\n        }],\n [\"min\",\n{\n            'v': -8.5,\n            'f': \"-8.5\",\n        },\n{\n            'v': -4.8,\n            'f': \"-4.8\",\n        },\n{\n            'v': 0.0,\n            'f': \"0.0\",\n        },\n{\n            'v': 0.0,\n            'f': \"0.0\",\n        },\n{\n            'v': 0.0,\n            'f': \"0.0\",\n        },\n{\n            'v': 6.0,\n            'f': \"6.0\",\n        },\n{\n            'v': 0.0,\n            'f': \"0.0\",\n        },\n{\n            'v': 0.0,\n            'f': \"0.0\",\n        },\n{\n            'v': 0.0,\n            'f': \"0.0\",\n        },\n{\n            'v': 0.0,\n            'f': \"0.0\",\n        },\n{\n            'v': 980.5,\n            'f': \"980.5\",\n        },\n{\n            'v': 977.1,\n            'f': \"977.1\",\n        },\n{\n            'v': 0.0,\n            'f': \"0.0\",\n        },\n{\n            'v': 0.0,\n            'f': \"0.0\",\n        },\n{\n            'v': -7.2,\n            'f': \"-7.2\",\n        },\n{\n            'v': -5.4,\n            'f': \"-5.4\",\n        }],\n [\"25%\",\n{\n            'v': 7.6,\n            'f': \"7.6\",\n        },\n{\n            'v': 17.9,\n            'f': \"17.9\",\n        },\n{\n            'v': 0.0,\n            'f': \"0.0\",\n        },\n{\n            'v': 2.6,\n            'f': \"2.6\",\n        },\n{\n            'v': 4.9,\n            'f': \"4.9\",\n        },\n{\n            'v': 31.0,\n            'f': \"31.0\",\n        },\n{\n            'v': 7.0,\n            'f': \"7.0\",\n        },\n{\n            'v': 13.0,\n            'f': \"13.0\",\n        },\n{\n            'v': 57.0,\n            'f': \"57.0\",\n        },\n{\n            'v': 37.0,\n            'f': \"37.0\",\n        },\n{\n            'v': 1012.9,\n            'f': \"1012.9\",\n        },\n{\n            'v': 1010.4,\n            'f': \"1010.4\",\n        },\n{\n            'v': 1.0,\n            'f': \"1.0\",\n        },\n{\n            'v': 2.0,\n            'f': \"2.0\",\n        },\n{\n            'v': 12.3,\n            'f': \"12.3\",\n        },\n{\n            'v': 16.6,\n            'f': \"16.6\",\n        }],\n [\"50%\",\n{\n            'v': 12.0,\n            'f': \"12.0\",\n        },\n{\n            'v': 22.6,\n            'f': \"22.6\",\n        },\n{\n            'v': 0.0,\n            'f': \"0.0\",\n        },\n{\n            'v': 4.8,\n            'f': \"4.8\",\n        },\n{\n            'v': 8.5,\n            'f': \"8.5\",\n        },\n{\n            'v': 39.0,\n            'f': \"39.0\",\n        },\n{\n            'v': 13.0,\n            'f': \"13.0\",\n        },\n{\n            'v': 19.0,\n            'f': \"19.0\",\n        },\n{\n            'v': 70.0,\n            'f': \"70.0\",\n        },\n{\n            'v': 52.0,\n            'f': \"52.0\",\n        },\n{\n            'v': 1017.6,\n            'f': \"1017.6\",\n        },\n{\n            'v': 1015.2,\n            'f': \"1015.2\",\n        },\n{\n            'v': 5.0,\n            'f': \"5.0\",\n        },\n{\n            'v': 5.0,\n            'f': \"5.0\",\n        },\n{\n            'v': 16.7,\n            'f': \"16.7\",\n        },\n{\n            'v': 21.1,\n            'f': \"21.1\",\n        }],\n [\"75%\",\n{\n            'v': 16.8,\n            'f': \"16.8\",\n        },\n{\n            'v': 28.2,\n            'f': \"28.2\",\n        },\n{\n            'v': 0.8,\n            'f': \"0.8\",\n        },\n{\n            'v': 7.4,\n            'f': \"7.4\",\n        },\n{\n            'v': 10.6,\n            'f': \"10.6\",\n        },\n{\n            'v': 48.0,\n            'f': \"48.0\",\n        },\n{\n            'v': 19.0,\n            'f': \"19.0\",\n        },\n{\n            'v': 24.0,\n            'f': \"24.0\",\n        },\n{\n            'v': 83.0,\n            'f': \"83.0\",\n        },\n{\n            'v': 66.0,\n            'f': \"66.0\",\n        },\n{\n            'v': 1022.4,\n            'f': \"1022.4\",\n        },\n{\n            'v': 1020.0,\n            'f': \"1020.0\",\n        },\n{\n            'v': 7.0,\n            'f': \"7.0\",\n        },\n{\n            'v': 7.0,\n            'f': \"7.0\",\n        },\n{\n            'v': 21.6,\n            'f': \"21.6\",\n        },\n{\n            'v': 26.4,\n            'f': \"26.4\",\n        }],\n [\"max\",\n{\n            'v': 33.9,\n            'f': \"33.9\",\n        },\n{\n            'v': 48.1,\n            'f': \"48.1\",\n        },\n{\n            'v': 371.0,\n            'f': \"371.0\",\n        },\n{\n            'v': 145.0,\n            'f': \"145.0\",\n        },\n{\n            'v': 14.5,\n            'f': \"14.5\",\n        },\n{\n            'v': 135.0,\n            'f': \"135.0\",\n        },\n{\n            'v': 130.0,\n            'f': \"130.0\",\n        },\n{\n            'v': 87.0,\n            'f': \"87.0\",\n        },\n{\n            'v': 100.0,\n            'f': \"100.0\",\n        },\n{\n            'v': 100.0,\n            'f': \"100.0\",\n        },\n{\n            'v': 1041.0,\n            'f': \"1041.0\",\n        },\n{\n            'v': 1039.6,\n            'f': \"1039.6\",\n        },\n{\n            'v': 9.0,\n            'f': \"9.0\",\n        },\n{\n            'v': 9.0,\n            'f': \"9.0\",\n        },\n{\n            'v': 40.2,\n            'f': \"40.2\",\n        },\n{\n            'v': 46.7,\n            'f': \"46.7\",\n        }]],\n        columns: [[\"string\", \"index\"], [\"number\", \"MinTemp\"], [\"number\", \"MaxTemp\"], [\"number\", \"Rainfall\"], [\"number\", \"Evaporation\"], [\"number\", \"Sunshine\"], [\"number\", \"WindGustSpeed\"], [\"number\", \"WindSpeed9am\"], [\"number\", \"WindSpeed3pm\"], [\"number\", \"Humidity9am\"], [\"number\", \"Humidity3pm\"], [\"number\", \"Pressure9am\"], [\"number\", \"Pressure3pm\"], [\"number\", \"Cloud9am\"], [\"number\", \"Cloud3pm\"], [\"number\", \"Temp9am\"], [\"number\", \"Temp3pm\"]],\n        columnOptions: [{\"width\": \"1px\", \"className\": \"index_column\"}],\n        rowsPerPage: 25,\n        helpUrl: \"https://colab.research.google.com/notebooks/data_table.ipynb\",\n        suppressOutputScrolling: true,\n        minimumWidth: undefined,\n      });\n    "
          },
          "metadata": {},
          "execution_count": 9
        }
      ]
    },
    {
      "cell_type": "code",
      "source": [
        "f, ax = plt.subplots(figsize=(8, 4))\n",
        "ax = sns.countplot(y=\"RainTomorrow\", data=weather, palette=\"Set1\")\n",
        "plt.savefig(\"rain_tomo.svg\")"
      ],
      "metadata": {
        "id": "uhHUnEHgxhjb",
        "colab": {
          "base_uri": "https://localhost:8080/",
          "height": 279
        },
        "outputId": "d91247c2-3476-4b2a-b8d3-629cd43bef3a"
      },
      "execution_count": null,
      "outputs": [
        {
          "output_type": "display_data",
          "data": {
            "text/plain": [
              "<Figure size 576x288 with 1 Axes>"
            ],
            "image/png": "[encoded data removed]"
          },
          "metadata": {
            "needs_background": "light"
          }
        }
      ]
    },
    {
      "cell_type": "code",
      "source": [
        "weather[\"Date\"]=pd.to_datetime(weather[\"Date\"])\n",
        "weather[\"year\"]=weather[\"Date\"].dt.year\n",
        "weather[\"month\"]=weather[\"Date\"].dt.month\n",
        "weather[\"day\"]=weather[\"Date\"].dt.day\n",
        "weather.drop(\"Date\",axis=1,inplace=True)"
      ],
      "metadata": {
        "id": "CdfYH8r0tm0P"
      },
      "execution_count": null,
      "outputs": []
    },
    {
      "cell_type": "code",
      "source": [
        "le = preprocessing.LabelEncoder()\n",
        "weather['RainTomorrow'] = le.fit_transform(weather['RainTomorrow'])"
      ],
      "metadata": {
        "id": "E0JeYsUtuUwQ"
      },
      "execution_count": null,
      "outputs": []
    },
    {
      "cell_type": "code",
      "source": [
        "X = weather.drop(['RainTomorrow'], axis=1)\n",
        "\n",
        "y = weather['RainTomorrow']"
      ],
      "metadata": {
        "id": "8F0RasRvB8gl"
      },
      "execution_count": null,
      "outputs": []
    },
    {
      "cell_type": "markdown",
      "source": [
        "### Fix missing values in numerical variables "
      ],
      "metadata": {
        "id": "toxtrfRkIoqB"
      }
    },
    {
      "cell_type": "code",
      "source": [
        "numerical = [col for col in X.columns if X[col].dtypes != 'O']\n",
        "\n",
        "print('There are {} numerical variables\\n'.format(len(numerical)))\n",
        "\n",
        "print('The categorical variables are :', numerical)"
      ],
      "metadata": {
        "id": "RZ5wbPSbFiu4",
        "colab": {
          "base_uri": "https://localhost:8080/"
        },
        "outputId": "f41ccdef-b4d8-4c38-fd2d-1bba68939ad3"
      },
      "execution_count": null,
      "outputs": [
        {
          "output_type": "stream",
          "name": "stdout",
          "text": [
            "There are 19 numerical variables\n",
            "\n",
            "The categorical variables are : ['MinTemp', 'MaxTemp', 'Rainfall', 'Evaporation', 'Sunshine', 'WindGustSpeed', 'WindSpeed9am', 'WindSpeed3pm', 'Humidity9am', 'Humidity3pm', 'Pressure9am', 'Pressure3pm', 'Cloud9am', 'Cloud3pm', 'Temp9am', 'Temp3pm', 'year', 'month', 'day']\n"
          ]
        }
      ]
    },
    {
      "cell_type": "code",
      "source": [
        "# replace null value with column median\n",
        "\n",
        "for col in numerical:\n",
        "  X[col].fillna(X[col].median(), inplace=True)"
      ],
      "metadata": {
        "id": "J7AW-5b1GDI3"
      },
      "execution_count": null,
      "outputs": []
    },
    {
      "cell_type": "code",
      "source": [
        "X[numerical].isnull().sum()"
      ],
      "metadata": {
        "id": "2M4V93czGNVe",
        "colab": {
          "base_uri": "https://localhost:8080/"
        },
        "outputId": "9f001172-7e3a-408b-d7d8-474fc8d0fbb5"
      },
      "execution_count": null,
      "outputs": [
        {
          "output_type": "execute_result",
          "data": {
            "text/plain": [
              "MinTemp          0\n",
              "MaxTemp          0\n",
              "Rainfall         0\n",
              "Evaporation      0\n",
              "Sunshine         0\n",
              "WindGustSpeed    0\n",
              "WindSpeed9am     0\n",
              "WindSpeed3pm     0\n",
              "Humidity9am      0\n",
              "Humidity3pm      0\n",
              "Pressure9am      0\n",
              "Pressure3pm      0\n",
              "Cloud9am         0\n",
              "Cloud3pm         0\n",
              "Temp9am          0\n",
              "Temp3pm          0\n",
              "year             0\n",
              "month            0\n",
              "day              0\n",
              "dtype: int64"
            ]
          },
          "metadata": {},
          "execution_count": 16
        }
      ]
    },
    {
      "cell_type": "markdown",
      "source": [
        "### Fix missing values in categorical variables"
      ],
      "metadata": {
        "id": "9to6AprTIxWn"
      }
    },
    {
      "cell_type": "code",
      "source": [
        "# find categorical variables\n",
        "\n",
        "categorical = [var for var in X.columns if X[var].dtype=='O']\n",
        "\n",
        "print('There are {} categorical variables\\n'.format(len(categorical)))\n",
        "\n",
        "print('The categorical variables are :', categorical)"
      ],
      "metadata": {
        "id": "gNaMpnBl2PMU",
        "colab": {
          "base_uri": "https://localhost:8080/"
        },
        "outputId": "9eff761e-36f5-4d24-c3b4-55c8f5df5a92"
      },
      "execution_count": null,
      "outputs": [
        {
          "output_type": "stream",
          "name": "stdout",
          "text": [
            "There are 5 categorical variables\n",
            "\n",
            "The categorical variables are : ['Location', 'WindGustDir', 'WindDir9am', 'WindDir3pm', 'RainToday']\n"
          ]
        }
      ]
    },
    {
      "cell_type": "code",
      "source": [
        "# replace null value with column mode\n",
        "\n",
        "for col in categorical:\n",
        "  X[col].fillna(X[col].mode()[0], inplace=True)"
      ],
      "metadata": {
        "id": "zNHNqx7WGiZ8"
      },
      "execution_count": null,
      "outputs": []
    },
    {
      "cell_type": "code",
      "source": [
        "X[categorical].isnull().sum()"
      ],
      "metadata": {
        "id": "TfmNw8xw2Y-s",
        "colab": {
          "base_uri": "https://localhost:8080/"
        },
        "outputId": "c0333f9b-2a47-4ed5-8eea-3b406f1de014"
      },
      "execution_count": null,
      "outputs": [
        {
          "output_type": "execute_result",
          "data": {
            "text/plain": [
              "Location       0\n",
              "WindGustDir    0\n",
              "WindDir9am     0\n",
              "WindDir3pm     0\n",
              "RainToday      0\n",
              "dtype: int64"
            ]
          },
          "metadata": {},
          "execution_count": 19
        }
      ]
    },
    {
      "cell_type": "markdown",
      "source": [
        "### Split data into three sets \n",
        "train (80%), validation (10%), and test (10%)"
      ],
      "metadata": {
        "id": "e9FVnAb5pH3-"
      }
    },
    {
      "cell_type": "code",
      "source": [
        "X_train, X_rem, y_train, y_rem = train_test_split(X, y, train_size = 0.8, random_state = 0)\n",
        "\n",
        "X_valid, X_test, y_valid, y_test = train_test_split(X_rem, y_rem, test_size=0.5)"
      ],
      "metadata": {
        "id": "MM7KTPd9Jil2"
      },
      "execution_count": null,
      "outputs": []
    },
    {
      "cell_type": "markdown",
      "source": [
        "### Find correlation between features"
      ],
      "metadata": {
        "id": "OlejsoDrqJ0c"
      }
    },
    {
      "cell_type": "code",
      "source": [
        "corr_weather = weather.corr()"
      ],
      "metadata": {
        "id": "o4AtVli6pvQS"
      },
      "execution_count": null,
      "outputs": []
    },
    {
      "cell_type": "code",
      "source": [
        "plt.figure(figsize=(16,12))\n",
        "plt.title('Correlation Heatmap of Rain in Australia Dataset')\n",
        "ax = sns.heatmap(corr_weather, square=True, annot=True, fmt='.2f', linecolor='white')\n",
        "ax.set_xticklabels(ax.get_xticklabels(), rotation=90)\n",
        "ax.set_yticklabels(ax.get_yticklabels(), rotation=30)           \n",
        "plt.savefig(\"corr_heatmap.svg\")"
      ],
      "metadata": {
        "id": "yehDoP5MrZ27",
        "colab": {
          "base_uri": "https://localhost:8080/",
          "height": 786
        },
        "outputId": "e6b25888-aab1-4929-e403-e4bc72d57c0b"
      },
      "execution_count": null,
      "outputs": [
        {
          "output_type": "display_data",
          "data": {
            "text/plain": [
              "<Figure size 1152x864 with 2 Axes>"
            ],
            "image/png": "[encoded data removed]"
          },
          "metadata": {
            "needs_background": "light"
          }
        }
      ]
    },
    {
      "cell_type": "code",
      "source": [
        "g = sns.JointGrid(data=weather, x='MaxTemp', y='Temp3pm')\n",
        "g.plot(sns.scatterplot, sns.histplot)\n",
        "plt.savefig(\"corr_temp.png\")"
      ],
      "metadata": {
        "id": "k_fVsh0063vW",
        "colab": {
          "base_uri": "https://localhost:8080/",
          "height": 441
        },
        "outputId": "17296268-cadb-4f05-fb59-719d5265447e"
      },
      "execution_count": null,
      "outputs": [
        {
          "output_type": "display_data",
          "data": {
            "text/plain": [
              "<Figure size 432x432 with 3 Axes>"
            ],
            "image/png": "[encoded data removed]"
          },
          "metadata": {
            "needs_background": "light"
          }
        }
      ]
    },
    {
      "cell_type": "markdown",
      "source": [
        "### Feature Engineering"
      ],
      "metadata": {
        "id": "gOWBk7yaTtaN"
      }
    },
    {
      "cell_type": "code",
      "source": [
        "for df in [X_train, X_valid, X_test]:\n",
        "  # delete highest correlation features\n",
        "  df.drop('Temp3pm', axis=1, inplace=True)\n",
        "\n",
        "  # define diff parameter for max and min temp\n",
        "  df[\"MinMax_diff\"]=df[\"MaxTemp\"]-df[\"MinTemp\"]\n",
        "\n",
        "  # drop max and min temp\n",
        "  df.drop('MaxTemp', axis=1, inplace=True)\n",
        "  df.drop('MinTemp', axis=1, inplace=True)\n"
      ],
      "metadata": {
        "id": "TC4kB7RuT6KB"
      },
      "execution_count": null,
      "outputs": []
    },
    {
      "cell_type": "code",
      "source": [
        "X_train = pd.get_dummies(X_train, drop_first=True, columns=categorical)\n",
        "X_valid = pd.get_dummies(X_valid, drop_first=True, columns=categorical)\n",
        "X_test = pd.get_dummies(X_test, drop_first=True, columns=categorical)"
      ],
      "metadata": {
        "id": "vI2UdZaDuPRw"
      },
      "execution_count": null,
      "outputs": []
    },
    {
      "cell_type": "code",
      "source": [
        "X_train.head(10)"
      ],
      "metadata": {
        "colab": {
          "base_uri": "https://localhost:8080/",
          "height": 474
        },
        "id": "0XlwZ9Mls2df",
        "outputId": "9e39d50d-b453-4ed1-ab55-0c9578bd8091"
      },
      "execution_count": null,
      "outputs": [
        {
          "output_type": "stream",
          "name": "stdout",
          "text": [
            "Warning: Total number of columns (111) exceeds max_columns (20). Falling back to pandas display.\n"
          ]
        },
        {
          "output_type": "execute_result",
          "data": {
            "text/plain": [
              "        Rainfall  Evaporation  Sunshine  WindGustSpeed  WindSpeed9am  \\\n",
              "113462       0.2          4.8       8.5           41.0          20.0   \n",
              "89638        2.0          6.0       6.3           33.0           7.0   \n",
              "138130       0.0         11.4      12.3           31.0          15.0   \n",
              "87898        0.0          8.8      11.1           37.0          22.0   \n",
              "16484        0.0          4.8       8.5           39.0           0.0   \n",
              "59383       14.8          4.8       8.5           54.0           9.0   \n",
              "128970       0.0          4.8       8.5           30.0           9.0   \n",
              "133255      25.0          4.8       8.5           28.0           4.0   \n",
              "127878       0.6          4.8       8.5           39.0          15.0   \n",
              "44161       20.2          4.8       8.5           41.0          15.0   \n",
              "\n",
              "        WindSpeed3pm  Humidity9am  Humidity3pm  Pressure9am  Pressure3pm  ...  \\\n",
              "113462          28.0         65.0         55.0       1013.9       1013.4  ...   \n",
              "89638           19.0         71.0         59.0       1016.9       1013.1  ...   \n",
              "138130          11.0          6.0          2.0       1018.1       1013.6  ...   \n",
              "87898           19.0         59.0         53.0       1014.1       1010.8  ...   \n",
              "16484            7.0         72.0         53.0       1017.6       1015.2  ...   \n",
              "59383           31.0         96.0         67.0       1009.2       1008.9  ...   \n",
              "128970          13.0         76.0         61.0       1019.8       1019.7  ...   \n",
              "133255          17.0         98.0         67.0        998.1        997.6  ...   \n",
              "127878          24.0         65.0         71.0       1015.3       1012.7  ...   \n",
              "44161           31.0         83.0         72.0       1024.7       1023.2  ...   \n",
              "\n",
              "        WindDir3pm_NW  WindDir3pm_S  WindDir3pm_SE  WindDir3pm_SSE  \\\n",
              "113462              0             1              0               0   \n",
              "89638               0             0              1               0   \n",
              "138130              0             0              0               0   \n",
              "87898               0             0              0               0   \n",
              "16484               0             0              1               0   \n",
              "59383               0             0              0               0   \n",
              "128970              0             1              0               0   \n",
              "133255              0             0              0               0   \n",
              "127878              0             0              0               0   \n",
              "44161               0             0              0               0   \n",
              "\n",
              "        WindDir3pm_SSW  WindDir3pm_SW  WindDir3pm_W  WindDir3pm_WNW  \\\n",
              "113462               0              0             0               0   \n",
              "89638                0              0             0               0   \n",
              "138130               0              0             0               0   \n",
              "87898                0              0             0               0   \n",
              "16484                0              0             0               0   \n",
              "59383                0              0             0               0   \n",
              "128970               0              0             0               0   \n",
              "133255               0              0             0               0   \n",
              "127878               0              0             0               0   \n",
              "44161                1              0             0               0   \n",
              "\n",
              "        WindDir3pm_WSW  RainToday_Yes  \n",
              "113462               0              0  \n",
              "89638                0              1  \n",
              "138130               0              0  \n",
              "87898                0              0  \n",
              "16484                0              0  \n",
              "59383                1              1  \n",
              "128970               0              0  \n",
              "133255               0              1  \n",
              "127878               0              0  \n",
              "44161                0              1  \n",
              "\n",
              "[10 rows x 111 columns]"
            ],
            "text/html": [
              "\n",
              "  <div id=\"df-2183edea-81e9-44a4-9a3b-2efdcf781c77\">\n",
              "    <div class=\"colab-df-container\">\n",
              "      <div>\n",
              "<style scoped>\n",
              "    .dataframe tbody tr th:only-of-type {\n",
              "        vertical-align: middle;\n",
              "    }\n",
              "\n",
              "    .dataframe tbody tr th {\n",
              "        vertical-align: top;\n",
              "    }\n",
              "\n",
              "    .dataframe thead th {\n",
              "        text-align: right;\n",
              "    }\n",
              "</style>\n",
              "<table border=\"1\" class=\"dataframe\">\n",
              "  <thead>\n",
              "    <tr style=\"text-align: right;\">\n",
              "      <th></th>\n",
              "      <th>Rainfall</th>\n",
              "      <th>Evaporation</th>\n",
              "      <th>Sunshine</th>\n",
              "      <th>WindGustSpeed</th>\n",
              "      <th>WindSpeed9am</th>\n",
              "      <th>WindSpeed3pm</th>\n",
              "      <th>Humidity9am</th>\n",
              "      <th>Humidity3pm</th>\n",
              "      <th>Pressure9am</th>\n",
              "      <th>Pressure3pm</th>\n",
              "      <th>...</th>\n",
              "      <th>WindDir3pm_NW</th>\n",
              "      <th>WindDir3pm_S</th>\n",
              "      <th>WindDir3pm_SE</th>\n",
              "      <th>WindDir3pm_SSE</th>\n",
              "      <th>WindDir3pm_SSW</th>\n",
              "      <th>WindDir3pm_SW</th>\n",
              "      <th>WindDir3pm_W</th>\n",
              "      <th>WindDir3pm_WNW</th>\n",
              "      <th>WindDir3pm_WSW</th>\n",
              "      <th>RainToday_Yes</th>\n",
              "    </tr>\n",
              "  </thead>\n",
              "  <tbody>\n",
              "    <tr>\n",
              "      <th>113462</th>\n",
              "      <td>0.2</td>\n",
              "      <td>4.8</td>\n",
              "      <td>8.5</td>\n",
              "      <td>41.0</td>\n",
              "      <td>20.0</td>\n",
              "      <td>28.0</td>\n",
              "      <td>65.0</td>\n",
              "      <td>55.0</td>\n",
              "      <td>1013.9</td>\n",
              "      <td>1013.4</td>\n",
              "      <td>...</td>\n",
              "      <td>0</td>\n",
              "      <td>1</td>\n",
              "      <td>0</td>\n",
              "      <td>0</td>\n",
              "      <td>0</td>\n",
              "      <td>0</td>\n",
              "      <td>0</td>\n",
              "      <td>0</td>\n",
              "      <td>0</td>\n",
              "      <td>0</td>\n",
              "    </tr>\n",
              "    <tr>\n",
              "      <th>89638</th>\n",
              "      <td>2.0</td>\n",
              "      <td>6.0</td>\n",
              "      <td>6.3</td>\n",
              "      <td>33.0</td>\n",
              "      <td>7.0</td>\n",
              "      <td>19.0</td>\n",
              "      <td>71.0</td>\n",
              "      <td>59.0</td>\n",
              "      <td>1016.9</td>\n",
              "      <td>1013.1</td>\n",
              "      <td>...</td>\n",
              "      <td>0</td>\n",
              "      <td>0</td>\n",
              "      <td>1</td>\n",
              "      <td>0</td>\n",
              "      <td>0</td>\n",
              "      <td>0</td>\n",
              "      <td>0</td>\n",
              "      <td>0</td>\n",
              "      <td>0</td>\n",
              "      <td>1</td>\n",
              "    </tr>\n",
              "    <tr>\n",
              "      <th>138130</th>\n",
              "      <td>0.0</td>\n",
              "      <td>11.4</td>\n",
              "      <td>12.3</td>\n",
              "      <td>31.0</td>\n",
              "      <td>15.0</td>\n",
              "      <td>11.0</td>\n",
              "      <td>6.0</td>\n",
              "      <td>2.0</td>\n",
              "      <td>1018.1</td>\n",
              "      <td>1013.6</td>\n",
              "      <td>...</td>\n",
              "      <td>0</td>\n",
              "      <td>0</td>\n",
              "      <td>0</td>\n",
              "      <td>0</td>\n",
              "      <td>0</td>\n",
              "      <td>0</td>\n",
              "      <td>0</td>\n",
              "      <td>0</td>\n",
              "      <td>0</td>\n",
              "      <td>0</td>\n",
              "    </tr>\n",
              "    <tr>\n",
              "      <th>87898</th>\n",
              "      <td>0.0</td>\n",
              "      <td>8.8</td>\n",
              "      <td>11.1</td>\n",
              "      <td>37.0</td>\n",
              "      <td>22.0</td>\n",
              "      <td>19.0</td>\n",
              "      <td>59.0</td>\n",
              "      <td>53.0</td>\n",
              "      <td>1014.1</td>\n",
              "      <td>1010.8</td>\n",
              "      <td>...</td>\n",
              "      <td>0</td>\n",
              "      <td>0</td>\n",
              "      <td>0</td>\n",
              "      <td>0</td>\n",
              "      <td>0</td>\n",
              "      <td>0</td>\n",
              "      <td>0</td>\n",
              "      <td>0</td>\n",
              "      <td>0</td>\n",
              "      <td>0</td>\n",
              "    </tr>\n",
              "    <tr>\n",
              "      <th>16484</th>\n",
              "      <td>0.0</td>\n",
              "      <td>4.8</td>\n",
              "      <td>8.5</td>\n",
              "      <td>39.0</td>\n",
              "      <td>0.0</td>\n",
              "      <td>7.0</td>\n",
              "      <td>72.0</td>\n",
              "      <td>53.0</td>\n",
              "      <td>1017.6</td>\n",
              "      <td>1015.2</td>\n",
              "      <td>...</td>\n",
              "      <td>0</td>\n",
              "      <td>0</td>\n",
              "      <td>1</td>\n",
              "      <td>0</td>\n",
              "      <td>0</td>\n",
              "      <td>0</td>\n",
              "      <td>0</td>\n",
              "      <td>0</td>\n",
              "      <td>0</td>\n",
              "      <td>0</td>\n",
              "    </tr>\n",
              "    <tr>\n",
              "      <th>59383</th>\n",
              "      <td>14.8</td>\n",
              "      <td>4.8</td>\n",
              "      <td>8.5</td>\n",
              "      <td>54.0</td>\n",
              "      <td>9.0</td>\n",
              "      <td>31.0</td>\n",
              "      <td>96.0</td>\n",
              "      <td>67.0</td>\n",
              "      <td>1009.2</td>\n",
              "      <td>1008.9</td>\n",
              "      <td>...</td>\n",
              "      <td>0</td>\n",
              "      <td>0</td>\n",
              "      <td>0</td>\n",
              "      <td>0</td>\n",
              "      <td>0</td>\n",
              "      <td>0</td>\n",
              "      <td>0</td>\n",
              "      <td>0</td>\n",
              "      <td>1</td>\n",
              "      <td>1</td>\n",
              "    </tr>\n",
              "    <tr>\n",
              "      <th>128970</th>\n",
              "      <td>0.0</td>\n",
              "      <td>4.8</td>\n",
              "      <td>8.5</td>\n",
              "      <td>30.0</td>\n",
              "      <td>9.0</td>\n",
              "      <td>13.0</td>\n",
              "      <td>76.0</td>\n",
              "      <td>61.0</td>\n",
              "      <td>1019.8</td>\n",
              "      <td>1019.7</td>\n",
              "      <td>...</td>\n",
              "      <td>0</td>\n",
              "      <td>1</td>\n",
              "      <td>0</td>\n",
              "      <td>0</td>\n",
              "      <td>0</td>\n",
              "      <td>0</td>\n",
              "      <td>0</td>\n",
              "      <td>0</td>\n",
              "      <td>0</td>\n",
              "      <td>0</td>\n",
              "    </tr>\n",
              "    <tr>\n",
              "      <th>133255</th>\n",
              "      <td>25.0</td>\n",
              "      <td>4.8</td>\n",
              "      <td>8.5</td>\n",
              "      <td>28.0</td>\n",
              "      <td>4.0</td>\n",
              "      <td>17.0</td>\n",
              "      <td>98.0</td>\n",
              "      <td>67.0</td>\n",
              "      <td>998.1</td>\n",
              "      <td>997.6</td>\n",
              "      <td>...</td>\n",
              "      <td>0</td>\n",
              "      <td>0</td>\n",
              "      <td>0</td>\n",
              "      <td>0</td>\n",
              "      <td>0</td>\n",
              "      <td>0</td>\n",
              "      <td>0</td>\n",
              "      <td>0</td>\n",
              "      <td>0</td>\n",
              "      <td>1</td>\n",
              "    </tr>\n",
              "    <tr>\n",
              "      <th>127878</th>\n",
              "      <td>0.6</td>\n",
              "      <td>4.8</td>\n",
              "      <td>8.5</td>\n",
              "      <td>39.0</td>\n",
              "      <td>15.0</td>\n",
              "      <td>24.0</td>\n",
              "      <td>65.0</td>\n",
              "      <td>71.0</td>\n",
              "      <td>1015.3</td>\n",
              "      <td>1012.7</td>\n",
              "      <td>...</td>\n",
              "      <td>0</td>\n",
              "      <td>0</td>\n",
              "      <td>0</td>\n",
              "      <td>0</td>\n",
              "      <td>0</td>\n",
              "      <td>0</td>\n",
              "      <td>0</td>\n",
              "      <td>0</td>\n",
              "      <td>0</td>\n",
              "      <td>0</td>\n",
              "    </tr>\n",
              "    <tr>\n",
              "      <th>44161</th>\n",
              "      <td>20.2</td>\n",
              "      <td>4.8</td>\n",
              "      <td>8.5</td>\n",
              "      <td>41.0</td>\n",
              "      <td>15.0</td>\n",
              "      <td>31.0</td>\n",
              "      <td>83.0</td>\n",
              "      <td>72.0</td>\n",
              "      <td>1024.7</td>\n",
              "      <td>1023.2</td>\n",
              "      <td>...</td>\n",
              "      <td>0</td>\n",
              "      <td>0</td>\n",
              "      <td>0</td>\n",
              "      <td>0</td>\n",
              "      <td>1</td>\n",
              "      <td>0</td>\n",
              "      <td>0</td>\n",
              "      <td>0</td>\n",
              "      <td>0</td>\n",
              "      <td>1</td>\n",
              "    </tr>\n",
              "  </tbody>\n",
              "</table>\n",
              "<p>10 rows × 111 columns</p>\n",
              "</div>\n",
              "      <button class=\"colab-df-convert\" onclick=\"convertToInteractive('df-2183edea-81e9-44a4-9a3b-2efdcf781c77')\"\n",
              "              title=\"Convert this dataframe to an interactive table.\"\n",
              "              style=\"display:none;\">\n",
              "        \n",
              "  <svg xmlns=\"http://www.w3.org/2000/svg\" height=\"24px\"viewBox=\"0 0 24 24\"\n",
              "       width=\"24px\">\n",
              "    <path d=\"M0 0h24v24H0V0z\" fill=\"none\"/>\n",
              "    <path d=\"M18.56 5.44l.94 2.06.94-2.06 2.06-.94-2.06-.94-.94-2.06-.94 2.06-2.06.94zm-11 1L8.5 8.5l.94-2.06 2.06-.94-2.06-.94L8.5 2.5l-.94 2.06-2.06.94zm10 10l.94 2.06.94-2.06 2.06-.94-2.06-.94-.94-2.06-.94 2.06-2.06.94z\"/><path d=\"M17.41 7.96l-1.37-1.37c-.4-.4-.92-.59-1.43-.59-.52 0-1.04.2-1.43.59L10.3 9.45l-7.72 7.72c-.78.78-.78 2.05 0 2.83L4 21.41c.39.39.9.59 1.41.59.51 0 1.02-.2 1.41-.59l7.78-7.78 2.81-2.81c.8-.78.8-2.07 0-2.86zM5.41 20L4 18.59l7.72-7.72 1.47 1.35L5.41 20z\"/>\n",
              "  </svg>\n",
              "      </button>\n",
              "      \n",
              "  <style>\n",
              "    .colab-df-container {\n",
              "      display:flex;\n",
              "      flex-wrap:wrap;\n",
              "      gap: 12px;\n",
              "    }\n",
              "\n",
              "    .colab-df-convert {\n",
              "      background-color: #E8F0FE;\n",
              "      border: none;\n",
              "      border-radius: 50%;\n",
              "      cursor: pointer;\n",
              "      display: none;\n",
              "      fill: #1967D2;\n",
              "      height: 32px;\n",
              "      padding: 0 0 0 0;\n",
              "      width: 32px;\n",
              "    }\n",
              "\n",
              "    .colab-df-convert:hover {\n",
              "      background-color: #E2EBFA;\n",
              "      box-shadow: 0px 1px 2px rgba(60, 64, 67, 0.3), 0px 1px 3px 1px rgba(60, 64, 67, 0.15);\n",
              "      fill: #174EA6;\n",
              "    }\n",
              "\n",
              "    [theme=dark] .colab-df-convert {\n",
              "      background-color: #3B4455;\n",
              "      fill: #D2E3FC;\n",
              "    }\n",
              "\n",
              "    [theme=dark] .colab-df-convert:hover {\n",
              "      background-color: #434B5C;\n",
              "      box-shadow: 0px 1px 3px 1px rgba(0, 0, 0, 0.15);\n",
              "      filter: drop-shadow(0px 1px 2px rgba(0, 0, 0, 0.3));\n",
              "      fill: #FFFFFF;\n",
              "    }\n",
              "  </style>\n",
              "\n",
              "      <script>\n",
              "        const buttonEl =\n",
              "          document.querySelector('#df-2183edea-81e9-44a4-9a3b-2efdcf781c77 button.colab-df-convert');\n",
              "        buttonEl.style.display =\n",
              "          google.colab.kernel.accessAllowed ? 'block' : 'none';\n",
              "\n",
              "        async function convertToInteractive(key) {\n",
              "          const element = document.querySelector('#df-2183edea-81e9-44a4-9a3b-2efdcf781c77');\n",
              "          const dataTable =\n",
              "            await google.colab.kernel.invokeFunction('convertToInteractive',\n",
              "                                                     [key], {});\n",
              "          if (!dataTable) return;\n",
              "\n",
              "          const docLinkHtml = 'Like what you see? Visit the ' +\n",
              "            '<a target=\"_blank\" href=https://colab.research.google.com/notebooks/data_table.ipynb>data table notebook</a>'\n",
              "            + ' to learn more about interactive tables.';\n",
              "          element.innerHTML = '';\n",
              "          dataTable['output_type'] = 'display_data';\n",
              "          await google.colab.output.renderOutput(dataTable, element);\n",
              "          const docLink = document.createElement('div');\n",
              "          docLink.innerHTML = docLinkHtml;\n",
              "          element.appendChild(docLink);\n",
              "        }\n",
              "      </script>\n",
              "    </div>\n",
              "  </div>\n",
              "  "
            ]
          },
          "metadata": {},
          "execution_count": 26
        }
      ]
    },
    {
      "cell_type": "markdown",
      "source": [
        "### Define Model"
      ],
      "metadata": {
        "id": "choIVM1qgOYx"
      }
    },
    {
      "cell_type": "code",
      "source": [
        "model = tf.keras.Sequential()\n",
        "model.add(tf.keras.layers.Dense(units=20, input_dim=111, activation=\"relu\"))\n",
        "model.add(tf.keras.layers.Dense(units=100, activation=\"relu\"))\n",
        "model.add(tf.keras.layers.Dense(units=100, activation=\"relu\"))\n",
        "model.add(tf.keras.layers.Dense(units=1, activation=\"sigmoid\"))\n",
        "model.compile(optimizer='adam',\n",
        "            loss=\"binary_crossentropy\",\n",
        "            metrics=['accuracy'])\n",
        "model.summary()"
      ],
      "metadata": {
        "colab": {
          "base_uri": "https://localhost:8080/"
        },
        "id": "NAbXJ7sSP2Av",
        "outputId": "6c6ae5a9-69f1-43cf-d4f3-e22bbf6c5bb3"
      },
      "execution_count": null,
      "outputs": [
        {
          "output_type": "stream",
          "name": "stdout",
          "text": [
            "Model: \"sequential\"\n",
            "_________________________________________________________________\n",
            " Layer (type)                Output Shape              Param #   \n",
            "=================================================================\n",
            " dense (Dense)               (None, 20)                2240      \n",
            "                                                                 \n",
            " dense_1 (Dense)             (None, 100)               2100      \n",
            "                                                                 \n",
            " dense_2 (Dense)             (None, 100)               10100     \n",
            "                                                                 \n",
            " dense_3 (Dense)             (None, 1)                 101       \n",
            "                                                                 \n",
            "=================================================================\n",
            "Total params: 14,541\n",
            "Trainable params: 14,541\n",
            "Non-trainable params: 0\n",
            "_________________________________________________________________\n"
          ]
        }
      ]
    },
    {
      "cell_type": "code",
      "source": [
        "history = model.fit(X_train, y_train, epochs=20, validation_data=(X_valid, y_valid), validation_freq=1)"
      ],
      "metadata": {
        "colab": {
          "base_uri": "https://localhost:8080/"
        },
        "id": "GQBBxOP7gR_M",
        "outputId": "8b876b7d-9397-4cbe-ae8e-3a5b6cbc1582"
      },
      "execution_count": null,
      "outputs": [
        {
          "output_type": "stream",
          "name": "stdout",
          "text": [
            "Epoch 1/20\n",
            "3555/3555 [==============================] - 9s 2ms/step - loss: 0.5558 - accuracy: 0.8028 - val_loss: 0.3681 - val_accuracy: 0.8416\n",
            "Epoch 2/20\n",
            "3555/3555 [==============================] - 8s 2ms/step - loss: 0.3858 - accuracy: 0.8328 - val_loss: 0.3622 - val_accuracy: 0.8450\n",
            "Epoch 3/20\n",
            "3555/3555 [==============================] - 8s 2ms/step - loss: 0.3775 - accuracy: 0.8368 - val_loss: 0.3648 - val_accuracy: 0.8455\n",
            "Epoch 4/20\n",
            "3555/3555 [==============================] - 8s 2ms/step - loss: 0.3737 - accuracy: 0.8387 - val_loss: 0.3678 - val_accuracy: 0.8415\n",
            "Epoch 5/20\n",
            "3555/3555 [==============================] - 8s 2ms/step - loss: 0.3719 - accuracy: 0.8385 - val_loss: 0.3719 - val_accuracy: 0.8406\n",
            "Epoch 6/20\n",
            "3555/3555 [==============================] - 8s 2ms/step - loss: 0.3699 - accuracy: 0.8400 - val_loss: 0.3709 - val_accuracy: 0.8415\n",
            "Epoch 7/20\n",
            "3555/3555 [==============================] - 8s 2ms/step - loss: 0.3688 - accuracy: 0.8403 - val_loss: 0.3619 - val_accuracy: 0.8446\n",
            "Epoch 8/20\n",
            "3555/3555 [==============================] - 8s 2ms/step - loss: 0.3683 - accuracy: 0.8405 - val_loss: 0.3638 - val_accuracy: 0.8409\n",
            "Epoch 9/20\n",
            "3555/3555 [==============================] - 8s 2ms/step - loss: 0.3680 - accuracy: 0.8406 - val_loss: 0.3723 - val_accuracy: 0.8434\n",
            "Epoch 10/20\n",
            "3555/3555 [==============================] - 8s 2ms/step - loss: 0.3673 - accuracy: 0.8409 - val_loss: 0.3630 - val_accuracy: 0.8464\n",
            "Epoch 11/20\n",
            "3555/3555 [==============================] - 8s 2ms/step - loss: 0.3660 - accuracy: 0.8419 - val_loss: 0.3579 - val_accuracy: 0.8446\n",
            "Epoch 12/20\n",
            "3555/3555 [==============================] - 8s 2ms/step - loss: 0.3651 - accuracy: 0.8422 - val_loss: 0.3713 - val_accuracy: 0.8429\n",
            "Epoch 13/20\n",
            "3555/3555 [==============================] - 8s 2ms/step - loss: 0.3660 - accuracy: 0.8420 - val_loss: 0.3658 - val_accuracy: 0.8432\n",
            "Epoch 14/20\n",
            "3555/3555 [==============================] - 8s 2ms/step - loss: 0.3645 - accuracy: 0.8425 - val_loss: 0.3626 - val_accuracy: 0.8430\n",
            "Epoch 15/20\n",
            "3555/3555 [==============================] - 8s 2ms/step - loss: 0.3637 - accuracy: 0.8420 - val_loss: 0.3630 - val_accuracy: 0.8422\n",
            "Epoch 16/20\n",
            "3555/3555 [==============================] - 9s 3ms/step - loss: 0.3631 - accuracy: 0.8426 - val_loss: 0.3571 - val_accuracy: 0.8467\n",
            "Epoch 17/20\n",
            "3555/3555 [==============================] - 8s 2ms/step - loss: 0.3630 - accuracy: 0.8425 - val_loss: 0.3552 - val_accuracy: 0.8458\n",
            "Epoch 18/20\n",
            "3555/3555 [==============================] - 8s 2ms/step - loss: 0.3629 - accuracy: 0.8426 - val_loss: 0.3560 - val_accuracy: 0.8474\n",
            "Epoch 19/20\n",
            "3555/3555 [==============================] - 8s 2ms/step - loss: 0.3623 - accuracy: 0.8428 - val_loss: 0.3547 - val_accuracy: 0.8479\n",
            "Epoch 20/20\n",
            "3555/3555 [==============================] - 8s 2ms/step - loss: 0.3619 - accuracy: 0.8436 - val_loss: 0.3588 - val_accuracy: 0.8439\n"
          ]
        }
      ]
    },
    {
      "cell_type": "code",
      "source": [
        "test_loss, test_acc = model.evaluate(X_test, y_test, verbose=2)"
      ],
      "metadata": {
        "colab": {
          "base_uri": "https://localhost:8080/"
        },
        "id": "iqA5BKXWH1QE",
        "outputId": "5d1525c2-24c3-4923-9b14-275cbbc7ff57"
      },
      "execution_count": null,
      "outputs": [
        {
          "output_type": "stream",
          "name": "stdout",
          "text": [
            "445/445 - 1s - loss: 0.3545 - accuracy: 0.8461 - 898ms/epoch - 2ms/step\n"
          ]
        }
      ]
    }
  ]
}