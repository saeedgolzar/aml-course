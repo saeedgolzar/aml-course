{
  "nbformat": 4,
  "nbformat_minor": 0,
  "metadata": {
    "colab": {
      "name": "MLP-Part-1",
      "provenance": [],
      "collapsed_sections": [
        "gszIbdpATY_e",
        "OX21U_5IVhoL",
        "ovwsDfCI248A"
      ],
      "authorship_tag": "ABX9TyOrtX5DpB5AHGX3kUS3uITX",
      "include_colab_link": true
    },
    "kernelspec": {
      "name": "python3",
      "display_name": "Python 3"
    },
    "language_info": {
      "name": "python"
    },
    "gpuClass": "standard",
    "accelerator": "GPU"
  },
  "cells": [
    {
      "cell_type": "markdown",
      "metadata": {
        "id": "view-in-github",
        "colab_type": "text"
      },
      "source": [
        "<a href=\"https://colab.research.google.com/github/saeedgolzar/AML_Course/blob/main/Project/Part_1.ipynb\" target=\"_parent\"><img src=\"https://colab.research.google.com/assets/colab-badge.svg\" alt=\"Open In Colab\"/></a>"
      ]
    },
    {
      "cell_type": "markdown",
      "source": [
        "# Applied Machine Learning Project\n",
        "\n",
        "Saeed Golzar | Summer 2022\n",
        "\n",
        "---"
      ],
      "metadata": {
        "id": "mhhWCNOe9hVK"
      }
    },
    {
      "cell_type": "markdown",
      "source": [
        "Import libraries"
      ],
      "metadata": {
        "id": "UWcVmiGK7J84"
      }
    },
    {
      "cell_type": "code",
      "source": [
        "import re\n",
        "import random\n",
        "import numpy as np\n",
        "import pandas as pd\n",
        "import seaborn as sns\n",
        "import tensorflow as tf\n",
        "import matplotlib.pyplot as plt\n",
        "from google.colab import data_table\n",
        "from sklearn import preprocessing\n",
        "from sklearn.model_selection import train_test_split\n",
        "data_table.enable_dataframe_formatter()"
      ],
      "metadata": {
        "id": "xfhEiX917Vob",
        "cellView": "code"
      },
      "execution_count": 1,
      "outputs": []
    },
    {
      "cell_type": "markdown",
      "source": [
        "# Part 1: Image Clustering"
      ],
      "metadata": {
        "id": "TgAA-7de--Bm"
      }
    },
    {
      "cell_type": "markdown",
      "source": [
        "## Load Dataset"
      ],
      "metadata": {
        "id": "jqyiOXIj_hz0"
      }
    },
    {
      "cell_type": "code",
      "source": [
        "fashion_mnist = tf.keras.datasets.fashion_mnist\n",
        "(train_images, train_labels),(test_images, test_labels) = fashion_mnist.load_data()"
      ],
      "metadata": {
        "id": "E9eA0KAn_kqe",
        "colab": {
          "base_uri": "https://localhost:8080/"
        },
        "outputId": "036e34bc-4c59-4e69-86c5-40dfc8fdc92c"
      },
      "execution_count": 2,
      "outputs": [
        {
          "output_type": "stream",
          "name": "stdout",
          "text": [
            "Downloading data from https://storage.googleapis.com/tensorflow/tf-keras-datasets/train-labels-idx1-ubyte.gz\n",
            "32768/29515 [=================================] - 0s 0us/step\n",
            "40960/29515 [=========================================] - 0s 0us/step\n",
            "Downloading data from https://storage.googleapis.com/tensorflow/tf-keras-datasets/train-images-idx3-ubyte.gz\n",
            "26427392/26421880 [==============================] - 0s 0us/step\n",
            "26435584/26421880 [==============================] - 0s 0us/step\n",
            "Downloading data from https://storage.googleapis.com/tensorflow/tf-keras-datasets/t10k-labels-idx1-ubyte.gz\n",
            "16384/5148 [===============================================================================================] - 0s 0us/step\n",
            "Downloading data from https://storage.googleapis.com/tensorflow/tf-keras-datasets/t10k-images-idx3-ubyte.gz\n",
            "4423680/4422102 [==============================] - 0s 0us/step\n",
            "4431872/4422102 [==============================] - 0s 0us/step\n"
          ]
        }
      ]
    },
    {
      "cell_type": "markdown",
      "source": [
        "## Randomly plot one picture in each category"
      ],
      "metadata": {
        "id": "vZOFDRDjN2Vn"
      }
    },
    {
      "cell_type": "code",
      "source": [
        "class_names = ['T-shirt/top', 'Trouser', 'Pullover', 'Dress', 'Coat',\n",
        "               'Sandal', 'Shirt', 'Sneaker', 'Bag', 'Ankle boot']\n",
        "plt.figure(figsize=(10,4))\n",
        "i = int(train_labels.size * random.random())\n",
        "ploted = list()\n",
        "while len(ploted) < 10:\n",
        "  i += 1\n",
        "  if train_labels[i] in ploted:\n",
        "    continue\n",
        "  plt.subplot(2,5, train_labels[i]+1)\n",
        "  plt.xticks([])\n",
        "  plt.yticks([])\n",
        "  plt.grid(False)\n",
        "  plt.imshow(train_images[i], cmap=plt.cm.binary)\n",
        "  plt.xlabel(class_names[train_labels[i]])\n",
        "  ploted.append(train_labels[i])\n",
        "plt.savefig(\"fashion_mnist_rancla.svg\")"
      ],
      "metadata": {
        "id": "0cr67Clo_2-t",
        "colab": {
          "base_uri": "https://localhost:8080/",
          "height": 260
        },
        "outputId": "8756c19b-1b50-4973-b21b-cfb4fdfcec52"
      },
      "execution_count": 3,
      "outputs": [
        {
          "output_type": "display_data",
          "data": {
            "text/plain": [
              "<Figure size 720x288 with 10 Axes>"
            ],
            "image/png": "[encoded data removed]"
          },
          "metadata": {}
        }
      ]
    },
    {
      "cell_type": "markdown",
      "source": [
        "## Define Functions"
      ],
      "metadata": {
        "id": "kjODNtKZ8Xg-"
      }
    },
    {
      "cell_type": "code",
      "source": [
        "def ann_fashion(layers):\n",
        "  model = tf.keras.Sequential()\n",
        "  model.add(tf.keras.layers.Flatten(input_shape=(28, 28)))\n",
        "  for i in layers:\n",
        "    model.add(tf.keras.layers.Dense(i, activation='relu'))\n",
        "  model.add(tf.keras.layers.Dense(10))\n",
        "\n",
        "  model.compile(optimizer='adam',\n",
        "              loss=tf.keras.losses.SparseCategoricalCrossentropy(from_logits=True),\n",
        "              metrics=['accuracy'])\n",
        "  \n",
        "  history = model.fit(train_images, train_labels, epochs=20, validation_data=(test_images, test_labels),\n",
        "    validation_freq=1)\n",
        "  return model, history\n",
        "\n",
        "def ann_eval(model, test_images, test_labels):\n",
        "  test_loss, test_acc = model.evaluate(test_images, test_labels, verbose=2)\n",
        "  print('\\nTest accuracy:', test_acc)\n",
        "\n",
        "def ann_loss(history, figname):\n",
        "  # Summarize history for loss\n",
        "  plt.plot(history.history['loss'])\n",
        "  plt.plot(history.history['val_loss'])\n",
        "  plt.title('Model Loss')\n",
        "  plt.ylabel('Loss')\n",
        "  plt.xlabel('Epoch')\n",
        "  plt.legend(['Train', 'Test'], loc='upper right')\n",
        "  plt.savefig(figname)\n",
        "\n",
        "def shift_image(X, dx):\n",
        "    X = np.roll(X, dx, axis=1)\n",
        "    if dx>0:\n",
        "        X[:, :dx] = 0\n",
        "    elif dx<0:\n",
        "        X[:, dx:] = 0\n",
        "    return X"
      ],
      "metadata": {
        "id": "BonlTVZiN7GF"
      },
      "execution_count": 4,
      "outputs": []
    },
    {
      "cell_type": "markdown",
      "source": [
        "## Train Model"
      ],
      "metadata": {
        "id": "qu4EgLZp8t1y"
      }
    },
    {
      "cell_type": "markdown",
      "source": [
        "### Model 1: Flatten, Dense(128), Dense(10)"
      ],
      "metadata": {
        "id": "sUrmKmDsS_1f"
      }
    },
    {
      "cell_type": "code",
      "source": [
        "model, history = ann_fashion([128])"
      ],
      "metadata": {
        "id": "YzhQ-BRzRA2S",
        "colab": {
          "base_uri": "https://localhost:8080/"
        },
        "outputId": "cec0dd0d-e6d1-4a2a-f2b3-466fd3d8ddf4"
      },
      "execution_count": 5,
      "outputs": [
        {
          "output_type": "stream",
          "name": "stdout",
          "text": [
            "Epoch 1/20\n",
            "1875/1875 [==============================] - 11s 4ms/step - loss: 4.0628 - accuracy: 0.7044 - val_loss: 0.8078 - val_accuracy: 0.7505\n",
            "Epoch 2/20\n",
            "1875/1875 [==============================] - 5s 2ms/step - loss: 0.7145 - accuracy: 0.7581 - val_loss: 0.6961 - val_accuracy: 0.7542\n",
            "Epoch 3/20\n",
            "1875/1875 [==============================] - 4s 2ms/step - loss: 0.6231 - accuracy: 0.7796 - val_loss: 0.6133 - val_accuracy: 0.7865\n",
            "Epoch 4/20\n",
            "1875/1875 [==============================] - 5s 2ms/step - loss: 0.5448 - accuracy: 0.8074 - val_loss: 0.5370 - val_accuracy: 0.8086\n",
            "Epoch 5/20\n",
            "1875/1875 [==============================] - 4s 2ms/step - loss: 0.5144 - accuracy: 0.8209 - val_loss: 0.5673 - val_accuracy: 0.8034\n",
            "Epoch 6/20\n",
            "1875/1875 [==============================] - 4s 2ms/step - loss: 0.4924 - accuracy: 0.8280 - val_loss: 0.5582 - val_accuracy: 0.8061\n",
            "Epoch 7/20\n",
            "1875/1875 [==============================] - 4s 2ms/step - loss: 0.4881 - accuracy: 0.8315 - val_loss: 0.5253 - val_accuracy: 0.8317\n",
            "Epoch 8/20\n",
            "1875/1875 [==============================] - 4s 2ms/step - loss: 0.4784 - accuracy: 0.8368 - val_loss: 0.5878 - val_accuracy: 0.8031\n",
            "Epoch 9/20\n",
            "1875/1875 [==============================] - 4s 2ms/step - loss: 0.4704 - accuracy: 0.8382 - val_loss: 0.5146 - val_accuracy: 0.8310\n",
            "Epoch 10/20\n",
            "1875/1875 [==============================] - 4s 2ms/step - loss: 0.4697 - accuracy: 0.8391 - val_loss: 0.5918 - val_accuracy: 0.8209\n",
            "Epoch 11/20\n",
            "1875/1875 [==============================] - 5s 2ms/step - loss: 0.4642 - accuracy: 0.8420 - val_loss: 0.5639 - val_accuracy: 0.8039\n",
            "Epoch 12/20\n",
            "1875/1875 [==============================] - 5s 2ms/step - loss: 0.4647 - accuracy: 0.8417 - val_loss: 0.5239 - val_accuracy: 0.8284\n",
            "Epoch 13/20\n",
            "1875/1875 [==============================] - 5s 3ms/step - loss: 0.4539 - accuracy: 0.8452 - val_loss: 0.5529 - val_accuracy: 0.8191\n",
            "Epoch 14/20\n",
            "1875/1875 [==============================] - 6s 3ms/step - loss: 0.4540 - accuracy: 0.8461 - val_loss: 0.5301 - val_accuracy: 0.8275\n",
            "Epoch 15/20\n",
            "1875/1875 [==============================] - 4s 2ms/step - loss: 0.4489 - accuracy: 0.8481 - val_loss: 0.5121 - val_accuracy: 0.8334\n",
            "Epoch 16/20\n",
            "1875/1875 [==============================] - 4s 2ms/step - loss: 0.4525 - accuracy: 0.8473 - val_loss: 0.5374 - val_accuracy: 0.8339\n",
            "Epoch 17/20\n",
            "1875/1875 [==============================] - 4s 2ms/step - loss: 0.4512 - accuracy: 0.8476 - val_loss: 0.5158 - val_accuracy: 0.8351\n",
            "Epoch 18/20\n",
            "1875/1875 [==============================] - 5s 2ms/step - loss: 0.4485 - accuracy: 0.8486 - val_loss: 0.6317 - val_accuracy: 0.8144\n",
            "Epoch 19/20\n",
            "1875/1875 [==============================] - 5s 2ms/step - loss: 0.4410 - accuracy: 0.8509 - val_loss: 0.5148 - val_accuracy: 0.8414\n",
            "Epoch 20/20\n",
            "1875/1875 [==============================] - 4s 2ms/step - loss: 0.4431 - accuracy: 0.8495 - val_loss: 0.5640 - val_accuracy: 0.8297\n"
          ]
        }
      ]
    },
    {
      "cell_type": "code",
      "source": [
        "model.summary()"
      ],
      "metadata": {
        "id": "ENiO8D9PVWcQ",
        "colab": {
          "base_uri": "https://localhost:8080/"
        },
        "outputId": "f28f8d19-ddbc-4fb5-b310-dfcc3d8bca63"
      },
      "execution_count": 6,
      "outputs": [
        {
          "output_type": "stream",
          "name": "stdout",
          "text": [
            "Model: \"sequential\"\n",
            "_________________________________________________________________\n",
            " Layer (type)                Output Shape              Param #   \n",
            "=================================================================\n",
            " flatten (Flatten)           (None, 784)               0         \n",
            "                                                                 \n",
            " dense (Dense)               (None, 128)               100480    \n",
            "                                                                 \n",
            " dense_1 (Dense)             (None, 10)                1290      \n",
            "                                                                 \n",
            "=================================================================\n",
            "Total params: 101,770\n",
            "Trainable params: 101,770\n",
            "Non-trainable params: 0\n",
            "_________________________________________________________________\n"
          ]
        }
      ]
    },
    {
      "cell_type": "code",
      "source": [
        "ann_eval(model, test_images, test_labels)"
      ],
      "metadata": {
        "id": "qujNJ_ftRi8d",
        "colab": {
          "base_uri": "https://localhost:8080/"
        },
        "outputId": "3eb8ee35-bfb1-4b93-9794-7c739e9268d8"
      },
      "execution_count": 7,
      "outputs": [
        {
          "output_type": "stream",
          "name": "stdout",
          "text": [
            "313/313 - 1s - loss: 0.5640 - accuracy: 0.8297 - 518ms/epoch - 2ms/step\n",
            "\n",
            "Test accuracy: 0.8296999931335449\n"
          ]
        }
      ]
    },
    {
      "cell_type": "code",
      "source": [
        "ann_loss(history, \"plot1-1.svg\")"
      ],
      "metadata": {
        "id": "AYKipDCrRiNj",
        "colab": {
          "base_uri": "https://localhost:8080/",
          "height": 295
        },
        "outputId": "9f965826-215c-4e3f-b859-37d4b6f3a74e"
      },
      "execution_count": 8,
      "outputs": [
        {
          "output_type": "display_data",
          "data": {
            "text/plain": [
              "<Figure size 432x288 with 1 Axes>"
            ],
            "image/png": "[encoded data removed]"
          },
          "metadata": {
            "needs_background": "light"
          }
        }
      ]
    },
    {
      "cell_type": "markdown",
      "source": [
        "### Model 2: Flatten, Dense(256), Dense(256), Dense(10)"
      ],
      "metadata": {
        "id": "gszIbdpATY_e"
      }
    },
    {
      "cell_type": "code",
      "source": [
        "model, history = ann_fashion([256, 256])"
      ],
      "metadata": {
        "id": "s860Z_IgTY_e",
        "colab": {
          "base_uri": "https://localhost:8080/"
        },
        "outputId": "3f44b4ab-6b0e-4c12-a070-2e35b2fe20f6"
      },
      "execution_count": 9,
      "outputs": [
        {
          "output_type": "stream",
          "name": "stdout",
          "text": [
            "Epoch 1/20\n",
            "1875/1875 [==============================] - 6s 3ms/step - loss: 2.1746 - accuracy: 0.7424 - val_loss: 0.6633 - val_accuracy: 0.7803\n",
            "Epoch 2/20\n",
            "1875/1875 [==============================] - 5s 3ms/step - loss: 0.6231 - accuracy: 0.7927 - val_loss: 0.6283 - val_accuracy: 0.7932\n",
            "Epoch 3/20\n",
            "1875/1875 [==============================] - 5s 3ms/step - loss: 0.5564 - accuracy: 0.8114 - val_loss: 0.5422 - val_accuracy: 0.8226\n",
            "Epoch 4/20\n",
            "1875/1875 [==============================] - 5s 3ms/step - loss: 0.4823 - accuracy: 0.8285 - val_loss: 0.5000 - val_accuracy: 0.8272\n",
            "Epoch 5/20\n",
            "1875/1875 [==============================] - 5s 3ms/step - loss: 0.4381 - accuracy: 0.8417 - val_loss: 0.4739 - val_accuracy: 0.8298\n",
            "Epoch 6/20\n",
            "1875/1875 [==============================] - 5s 3ms/step - loss: 0.4223 - accuracy: 0.8470 - val_loss: 0.5087 - val_accuracy: 0.8298\n",
            "Epoch 7/20\n",
            "1875/1875 [==============================] - 5s 3ms/step - loss: 0.4145 - accuracy: 0.8506 - val_loss: 0.4760 - val_accuracy: 0.8428\n",
            "Epoch 8/20\n",
            "1875/1875 [==============================] - 5s 3ms/step - loss: 0.4062 - accuracy: 0.8533 - val_loss: 0.4792 - val_accuracy: 0.8392\n",
            "Epoch 9/20\n",
            "1875/1875 [==============================] - 5s 3ms/step - loss: 0.3911 - accuracy: 0.8593 - val_loss: 0.4587 - val_accuracy: 0.8421\n",
            "Epoch 10/20\n",
            "1875/1875 [==============================] - 5s 3ms/step - loss: 0.3860 - accuracy: 0.8613 - val_loss: 0.4835 - val_accuracy: 0.8329\n",
            "Epoch 11/20\n",
            "1875/1875 [==============================] - 5s 3ms/step - loss: 0.3825 - accuracy: 0.8617 - val_loss: 0.4338 - val_accuracy: 0.8468\n",
            "Epoch 12/20\n",
            "1875/1875 [==============================] - 5s 3ms/step - loss: 0.3721 - accuracy: 0.8658 - val_loss: 0.4588 - val_accuracy: 0.8454\n",
            "Epoch 13/20\n",
            "1875/1875 [==============================] - 5s 3ms/step - loss: 0.3726 - accuracy: 0.8643 - val_loss: 0.4856 - val_accuracy: 0.8418\n",
            "Epoch 14/20\n",
            "1875/1875 [==============================] - 5s 3ms/step - loss: 0.3678 - accuracy: 0.8662 - val_loss: 0.4570 - val_accuracy: 0.8477\n",
            "Epoch 15/20\n",
            "1875/1875 [==============================] - 5s 3ms/step - loss: 0.3650 - accuracy: 0.8679 - val_loss: 0.4381 - val_accuracy: 0.8523\n",
            "Epoch 16/20\n",
            "1875/1875 [==============================] - 5s 3ms/step - loss: 0.3548 - accuracy: 0.8709 - val_loss: 0.4851 - val_accuracy: 0.8430\n",
            "Epoch 17/20\n",
            "1875/1875 [==============================] - 5s 3ms/step - loss: 0.3651 - accuracy: 0.8696 - val_loss: 0.4870 - val_accuracy: 0.8414\n",
            "Epoch 18/20\n",
            "1875/1875 [==============================] - 5s 3ms/step - loss: 0.3562 - accuracy: 0.8732 - val_loss: 0.4409 - val_accuracy: 0.8538\n",
            "Epoch 19/20\n",
            "1875/1875 [==============================] - 5s 3ms/step - loss: 0.3508 - accuracy: 0.8731 - val_loss: 0.4697 - val_accuracy: 0.8551\n",
            "Epoch 20/20\n",
            "1875/1875 [==============================] - 5s 3ms/step - loss: 0.3533 - accuracy: 0.8733 - val_loss: 0.4866 - val_accuracy: 0.8506\n"
          ]
        }
      ]
    },
    {
      "cell_type": "code",
      "source": [
        "model.summary()"
      ],
      "metadata": {
        "id": "3nmbAtsZUXTM",
        "colab": {
          "base_uri": "https://localhost:8080/"
        },
        "outputId": "cc88cf75-98e6-4fa8-8fa8-b5d66f1ac183"
      },
      "execution_count": 10,
      "outputs": [
        {
          "output_type": "stream",
          "name": "stdout",
          "text": [
            "Model: \"sequential_1\"\n",
            "_________________________________________________________________\n",
            " Layer (type)                Output Shape              Param #   \n",
            "=================================================================\n",
            " flatten_1 (Flatten)         (None, 784)               0         \n",
            "                                                                 \n",
            " dense_2 (Dense)             (None, 256)               200960    \n",
            "                                                                 \n",
            " dense_3 (Dense)             (None, 256)               65792     \n",
            "                                                                 \n",
            " dense_4 (Dense)             (None, 10)                2570      \n",
            "                                                                 \n",
            "=================================================================\n",
            "Total params: 269,322\n",
            "Trainable params: 269,322\n",
            "Non-trainable params: 0\n",
            "_________________________________________________________________\n"
          ]
        }
      ]
    },
    {
      "cell_type": "code",
      "source": [
        "ann_eval(model, test_images, test_labels)"
      ],
      "metadata": {
        "id": "_y2QtLrYTY_f",
        "colab": {
          "base_uri": "https://localhost:8080/"
        },
        "outputId": "836aa4d6-fb25-4d0a-bc11-2b2ccb8c8c7c"
      },
      "execution_count": 11,
      "outputs": [
        {
          "output_type": "stream",
          "name": "stdout",
          "text": [
            "313/313 - 1s - loss: 0.4866 - accuracy: 0.8506 - 549ms/epoch - 2ms/step\n",
            "\n",
            "Test accuracy: 0.850600004196167\n"
          ]
        }
      ]
    },
    {
      "cell_type": "code",
      "source": [
        "ann_loss(history, \"plot1-2.svg\")"
      ],
      "metadata": {
        "id": "EdU0SnlSTY_f",
        "colab": {
          "base_uri": "https://localhost:8080/",
          "height": 0
        },
        "outputId": "3f72e28c-4a30-44bc-8eff-4f8faf478908"
      },
      "execution_count": 12,
      "outputs": [
        {
          "output_type": "display_data",
          "data": {
            "text/plain": [
              "<Figure size 432x288 with 1 Axes>"
            ],
            "image/png": "[encoded data removed]"
          },
          "metadata": {
            "needs_background": "light"
          }
        }
      ]
    },
    {
      "cell_type": "markdown",
      "source": [
        "### Model 3: Flatten, Dense(256), Dense(512), Dense(256), Dense(10)"
      ],
      "metadata": {
        "id": "OX21U_5IVhoL"
      }
    },
    {
      "cell_type": "code",
      "source": [
        "model, history = ann_fashion([256, 512, 256])"
      ],
      "metadata": {
        "id": "vRuKg7FuVhoR",
        "colab": {
          "base_uri": "https://localhost:8080/"
        },
        "outputId": "7da80c4b-aeee-4782-9d4b-ec4b2f620276"
      },
      "execution_count": 13,
      "outputs": [
        {
          "output_type": "stream",
          "name": "stdout",
          "text": [
            "Epoch 1/20\n",
            "1875/1875 [==============================] - 6s 3ms/step - loss: 1.2850 - accuracy: 0.7647 - val_loss: 0.5150 - val_accuracy: 0.8241\n",
            "Epoch 2/20\n",
            "1875/1875 [==============================] - 5s 3ms/step - loss: 0.4617 - accuracy: 0.8356 - val_loss: 0.4602 - val_accuracy: 0.8340\n",
            "Epoch 3/20\n",
            "1875/1875 [==============================] - 5s 3ms/step - loss: 0.4307 - accuracy: 0.8462 - val_loss: 0.4339 - val_accuracy: 0.8443\n",
            "Epoch 4/20\n",
            "1875/1875 [==============================] - 5s 3ms/step - loss: 0.4132 - accuracy: 0.8537 - val_loss: 0.4594 - val_accuracy: 0.8398\n",
            "Epoch 5/20\n",
            "1875/1875 [==============================] - 5s 3ms/step - loss: 0.3909 - accuracy: 0.8608 - val_loss: 0.4285 - val_accuracy: 0.8529\n",
            "Epoch 6/20\n",
            "1875/1875 [==============================] - 5s 3ms/step - loss: 0.3801 - accuracy: 0.8647 - val_loss: 0.4282 - val_accuracy: 0.8519\n",
            "Epoch 7/20\n",
            "1875/1875 [==============================] - 5s 3ms/step - loss: 0.3686 - accuracy: 0.8685 - val_loss: 0.4049 - val_accuracy: 0.8583\n",
            "Epoch 8/20\n",
            "1875/1875 [==============================] - 5s 3ms/step - loss: 0.3514 - accuracy: 0.8747 - val_loss: 0.3869 - val_accuracy: 0.8634\n",
            "Epoch 9/20\n",
            "1875/1875 [==============================] - 5s 3ms/step - loss: 0.3497 - accuracy: 0.8745 - val_loss: 0.4294 - val_accuracy: 0.8472\n",
            "Epoch 10/20\n",
            "1875/1875 [==============================] - 5s 3ms/step - loss: 0.3414 - accuracy: 0.8753 - val_loss: 0.4168 - val_accuracy: 0.8587\n",
            "Epoch 11/20\n",
            "1875/1875 [==============================] - 5s 3ms/step - loss: 0.3360 - accuracy: 0.8807 - val_loss: 0.4067 - val_accuracy: 0.8652\n",
            "Epoch 12/20\n",
            "1875/1875 [==============================] - 5s 3ms/step - loss: 0.3264 - accuracy: 0.8826 - val_loss: 0.4476 - val_accuracy: 0.8579\n",
            "Epoch 13/20\n",
            "1875/1875 [==============================] - 5s 3ms/step - loss: 0.3220 - accuracy: 0.8849 - val_loss: 0.3950 - val_accuracy: 0.8656\n",
            "Epoch 14/20\n",
            "1875/1875 [==============================] - 5s 3ms/step - loss: 0.3190 - accuracy: 0.8856 - val_loss: 0.4329 - val_accuracy: 0.8518\n",
            "Epoch 15/20\n",
            "1875/1875 [==============================] - 5s 3ms/step - loss: 0.3182 - accuracy: 0.8846 - val_loss: 0.4272 - val_accuracy: 0.8570\n",
            "Epoch 16/20\n",
            "1875/1875 [==============================] - 6s 3ms/step - loss: 0.3031 - accuracy: 0.8896 - val_loss: 0.3863 - val_accuracy: 0.8670\n",
            "Epoch 17/20\n",
            "1875/1875 [==============================] - 5s 3ms/step - loss: 0.3006 - accuracy: 0.8906 - val_loss: 0.3950 - val_accuracy: 0.8650\n",
            "Epoch 18/20\n",
            "1875/1875 [==============================] - 5s 3ms/step - loss: 0.3048 - accuracy: 0.8900 - val_loss: 0.4337 - val_accuracy: 0.8614\n",
            "Epoch 19/20\n",
            "1875/1875 [==============================] - 5s 3ms/step - loss: 0.2965 - accuracy: 0.8923 - val_loss: 0.4348 - val_accuracy: 0.8604\n",
            "Epoch 20/20\n",
            "1875/1875 [==============================] - 5s 3ms/step - loss: 0.2934 - accuracy: 0.8928 - val_loss: 0.4165 - val_accuracy: 0.8704\n"
          ]
        }
      ]
    },
    {
      "cell_type": "code",
      "source": [
        "model.summary()"
      ],
      "metadata": {
        "id": "9w-meXF8VhoR",
        "colab": {
          "base_uri": "https://localhost:8080/"
        },
        "outputId": "5047c01a-d2af-4129-87c5-bd85010dc0fa"
      },
      "execution_count": 14,
      "outputs": [
        {
          "output_type": "stream",
          "name": "stdout",
          "text": [
            "Model: \"sequential_2\"\n",
            "_________________________________________________________________\n",
            " Layer (type)                Output Shape              Param #   \n",
            "=================================================================\n",
            " flatten_2 (Flatten)         (None, 784)               0         \n",
            "                                                                 \n",
            " dense_5 (Dense)             (None, 256)               200960    \n",
            "                                                                 \n",
            " dense_6 (Dense)             (None, 512)               131584    \n",
            "                                                                 \n",
            " dense_7 (Dense)             (None, 256)               131328    \n",
            "                                                                 \n",
            " dense_8 (Dense)             (None, 10)                2570      \n",
            "                                                                 \n",
            "=================================================================\n",
            "Total params: 466,442\n",
            "Trainable params: 466,442\n",
            "Non-trainable params: 0\n",
            "_________________________________________________________________\n"
          ]
        }
      ]
    },
    {
      "cell_type": "code",
      "source": [
        "ann_eval(model, test_images, test_labels)"
      ],
      "metadata": {
        "id": "9qRIvDy7VhoR",
        "colab": {
          "base_uri": "https://localhost:8080/"
        },
        "outputId": "b5548e12-3d76-42c6-cdd5-5fc9db4f24dd"
      },
      "execution_count": 15,
      "outputs": [
        {
          "output_type": "stream",
          "name": "stdout",
          "text": [
            "313/313 - 1s - loss: 0.4165 - accuracy: 0.8704 - 549ms/epoch - 2ms/step\n",
            "\n",
            "Test accuracy: 0.8704000115394592\n"
          ]
        }
      ]
    },
    {
      "cell_type": "code",
      "source": [
        "ann_loss(history, \"plot1-3.svg\")"
      ],
      "metadata": {
        "id": "SiE0uTMyVhoR",
        "colab": {
          "base_uri": "https://localhost:8080/",
          "height": 0
        },
        "outputId": "b0935a1c-4122-44f0-fde3-38ca31b848da"
      },
      "execution_count": 16,
      "outputs": [
        {
          "output_type": "display_data",
          "data": {
            "text/plain": [
              "<Figure size 432x288 with 1 Axes>"
            ],
            "image/png": "[encoded data removed]"
          },
          "metadata": {
            "needs_background": "light"
          }
        }
      ]
    },
    {
      "cell_type": "markdown",
      "source": [
        "### Model 4: Flatten, Dense(512), Dense(256), Dense(512), Dense(10)"
      ],
      "metadata": {
        "id": "ovwsDfCI248A"
      }
    },
    {
      "cell_type": "code",
      "source": [
        "model, history = ann_fashion([512, 512])"
      ],
      "metadata": {
        "colab": {
          "base_uri": "https://localhost:8080/"
        },
        "id": "b2lMzIDu248B",
        "outputId": "30168576-9060-48fe-cc72-ec80a3a4828b"
      },
      "execution_count": 17,
      "outputs": [
        {
          "output_type": "stream",
          "name": "stdout",
          "text": [
            "Epoch 1/20\n",
            "1875/1875 [==============================] - 5s 3ms/step - loss: 2.1189 - accuracy: 0.7461 - val_loss: 0.8714 - val_accuracy: 0.7286\n",
            "Epoch 2/20\n",
            "1875/1875 [==============================] - 5s 3ms/step - loss: 0.6788 - accuracy: 0.7763 - val_loss: 0.5934 - val_accuracy: 0.8000\n",
            "Epoch 3/20\n",
            "1875/1875 [==============================] - 5s 3ms/step - loss: 0.5521 - accuracy: 0.8094 - val_loss: 0.5783 - val_accuracy: 0.8135\n",
            "Epoch 4/20\n",
            "1875/1875 [==============================] - 5s 3ms/step - loss: 0.4836 - accuracy: 0.8321 - val_loss: 0.5400 - val_accuracy: 0.8170\n",
            "Epoch 5/20\n",
            "1875/1875 [==============================] - 5s 3ms/step - loss: 0.4589 - accuracy: 0.8406 - val_loss: 0.4895 - val_accuracy: 0.8333\n",
            "Epoch 6/20\n",
            "1875/1875 [==============================] - 5s 3ms/step - loss: 0.4447 - accuracy: 0.8436 - val_loss: 0.4772 - val_accuracy: 0.8333\n",
            "Epoch 7/20\n",
            "1875/1875 [==============================] - 5s 3ms/step - loss: 0.4268 - accuracy: 0.8479 - val_loss: 0.4753 - val_accuracy: 0.8339\n",
            "Epoch 8/20\n",
            "1875/1875 [==============================] - 5s 3ms/step - loss: 0.4265 - accuracy: 0.8507 - val_loss: 0.4896 - val_accuracy: 0.8349\n",
            "Epoch 9/20\n",
            "1875/1875 [==============================] - 5s 3ms/step - loss: 0.4151 - accuracy: 0.8538 - val_loss: 0.5354 - val_accuracy: 0.8225\n",
            "Epoch 10/20\n",
            "1875/1875 [==============================] - 5s 3ms/step - loss: 0.3986 - accuracy: 0.8576 - val_loss: 0.4656 - val_accuracy: 0.8436\n",
            "Epoch 11/20\n",
            "1875/1875 [==============================] - 5s 3ms/step - loss: 0.4228 - accuracy: 0.8485 - val_loss: 0.4646 - val_accuracy: 0.8420\n",
            "Epoch 12/20\n",
            "1875/1875 [==============================] - 5s 3ms/step - loss: 0.3941 - accuracy: 0.8588 - val_loss: 0.4686 - val_accuracy: 0.8376\n",
            "Epoch 13/20\n",
            "1875/1875 [==============================] - 5s 3ms/step - loss: 0.3827 - accuracy: 0.8632 - val_loss: 0.4579 - val_accuracy: 0.8506\n",
            "Epoch 14/20\n",
            "1875/1875 [==============================] - 5s 3ms/step - loss: 0.4063 - accuracy: 0.8564 - val_loss: 0.5507 - val_accuracy: 0.8136\n",
            "Epoch 15/20\n",
            "1875/1875 [==============================] - 5s 3ms/step - loss: 0.3855 - accuracy: 0.8638 - val_loss: 0.4615 - val_accuracy: 0.8496\n",
            "Epoch 16/20\n",
            "1875/1875 [==============================] - 5s 3ms/step - loss: 0.3778 - accuracy: 0.8657 - val_loss: 0.4555 - val_accuracy: 0.8461\n",
            "Epoch 17/20\n",
            "1875/1875 [==============================] - 5s 3ms/step - loss: 0.3703 - accuracy: 0.8689 - val_loss: 0.4604 - val_accuracy: 0.8549\n",
            "Epoch 18/20\n",
            "1875/1875 [==============================] - 5s 3ms/step - loss: 0.3676 - accuracy: 0.8687 - val_loss: 0.4422 - val_accuracy: 0.8534\n",
            "Epoch 19/20\n",
            "1875/1875 [==============================] - 5s 3ms/step - loss: 0.3702 - accuracy: 0.8706 - val_loss: 0.4327 - val_accuracy: 0.8571\n",
            "Epoch 20/20\n",
            "1875/1875 [==============================] - 5s 3ms/step - loss: 0.3633 - accuracy: 0.8715 - val_loss: 0.4693 - val_accuracy: 0.8526\n"
          ]
        }
      ]
    },
    {
      "cell_type": "code",
      "source": [
        "model.summary()"
      ],
      "metadata": {
        "colab": {
          "base_uri": "https://localhost:8080/"
        },
        "id": "MxWu1PTT248C",
        "outputId": "d695edb9-8ad9-4a99-bc47-018a2d847087"
      },
      "execution_count": 18,
      "outputs": [
        {
          "output_type": "stream",
          "name": "stdout",
          "text": [
            "Model: \"sequential_3\"\n",
            "_________________________________________________________________\n",
            " Layer (type)                Output Shape              Param #   \n",
            "=================================================================\n",
            " flatten_3 (Flatten)         (None, 784)               0         \n",
            "                                                                 \n",
            " dense_9 (Dense)             (None, 512)               401920    \n",
            "                                                                 \n",
            " dense_10 (Dense)            (None, 512)               262656    \n",
            "                                                                 \n",
            " dense_11 (Dense)            (None, 10)                5130      \n",
            "                                                                 \n",
            "=================================================================\n",
            "Total params: 669,706\n",
            "Trainable params: 669,706\n",
            "Non-trainable params: 0\n",
            "_________________________________________________________________\n"
          ]
        }
      ]
    },
    {
      "cell_type": "code",
      "source": [
        "ann_eval(model, test_images, test_labels)"
      ],
      "metadata": {
        "colab": {
          "base_uri": "https://localhost:8080/"
        },
        "id": "JDvgeiSM248C",
        "outputId": "69b5aa1b-9f99-4763-f66b-128229dc4a61"
      },
      "execution_count": 19,
      "outputs": [
        {
          "output_type": "stream",
          "name": "stdout",
          "text": [
            "313/313 - 1s - loss: 0.4693 - accuracy: 0.8526 - 536ms/epoch - 2ms/step\n",
            "\n",
            "Test accuracy: 0.8525999784469604\n"
          ]
        }
      ]
    },
    {
      "cell_type": "code",
      "source": [
        "ann_loss(history, \"plot1-4.svg\")"
      ],
      "metadata": {
        "colab": {
          "base_uri": "https://localhost:8080/",
          "height": 0
        },
        "id": "ZjD-f14q248C",
        "outputId": "42595525-40cd-4b9d-8ddc-675f40d4aa75"
      },
      "execution_count": 20,
      "outputs": [
        {
          "output_type": "display_data",
          "data": {
            "text/plain": [
              "<Figure size 432x288 with 1 Axes>"
            ],
            "image/png": "[encoded data removed]"
          },
          "metadata": {
            "needs_background": "light"
          }
        }
      ]
    },
    {
      "cell_type": "markdown",
      "source": [
        "### Model 5: Flatten, Dense(1024), Dense(10)"
      ],
      "metadata": {
        "id": "9pc4p_vz250M"
      }
    },
    {
      "cell_type": "code",
      "source": [
        "model, history = ann_fashion([1024])"
      ],
      "metadata": {
        "colab": {
          "base_uri": "https://localhost:8080/"
        },
        "id": "aTvEQ81E250M",
        "outputId": "10525468-4190-493a-bb8e-de8fd8ff9924"
      },
      "execution_count": 21,
      "outputs": [
        {
          "output_type": "stream",
          "name": "stdout",
          "text": [
            "Epoch 1/20\n",
            "1875/1875 [==============================] - 6s 3ms/step - loss: 5.2679 - accuracy: 0.7853 - val_loss: 0.5821 - val_accuracy: 0.8102\n",
            "Epoch 2/20\n",
            "1875/1875 [==============================] - 5s 2ms/step - loss: 0.5141 - accuracy: 0.8261 - val_loss: 0.5515 - val_accuracy: 0.8139\n",
            "Epoch 3/20\n",
            "1875/1875 [==============================] - 4s 2ms/step - loss: 0.5042 - accuracy: 0.8313 - val_loss: 0.6152 - val_accuracy: 0.8029\n",
            "Epoch 4/20\n",
            "1875/1875 [==============================] - 5s 2ms/step - loss: 0.4915 - accuracy: 0.8373 - val_loss: 0.5844 - val_accuracy: 0.8244\n",
            "Epoch 5/20\n",
            "1875/1875 [==============================] - 5s 2ms/step - loss: 0.4889 - accuracy: 0.8389 - val_loss: 0.5186 - val_accuracy: 0.8323\n",
            "Epoch 6/20\n",
            "1875/1875 [==============================] - 4s 2ms/step - loss: 0.4729 - accuracy: 0.8439 - val_loss: 0.5897 - val_accuracy: 0.8233\n",
            "Epoch 7/20\n",
            "1875/1875 [==============================] - 4s 2ms/step - loss: 0.4563 - accuracy: 0.8460 - val_loss: 0.5478 - val_accuracy: 0.8313\n",
            "Epoch 8/20\n",
            "1875/1875 [==============================] - 5s 2ms/step - loss: 0.4465 - accuracy: 0.8507 - val_loss: 0.5900 - val_accuracy: 0.8119\n",
            "Epoch 9/20\n",
            "1875/1875 [==============================] - 4s 2ms/step - loss: 0.4373 - accuracy: 0.8504 - val_loss: 0.5107 - val_accuracy: 0.8394\n",
            "Epoch 10/20\n",
            "1875/1875 [==============================] - 4s 2ms/step - loss: 0.4372 - accuracy: 0.8525 - val_loss: 0.5399 - val_accuracy: 0.8365\n",
            "Epoch 11/20\n",
            "1875/1875 [==============================] - 4s 2ms/step - loss: 0.4282 - accuracy: 0.8554 - val_loss: 0.5094 - val_accuracy: 0.8302\n",
            "Epoch 12/20\n",
            "1875/1875 [==============================] - 5s 2ms/step - loss: 0.4375 - accuracy: 0.8540 - val_loss: 0.5671 - val_accuracy: 0.8218\n",
            "Epoch 13/20\n",
            "1875/1875 [==============================] - 5s 2ms/step - loss: 0.4302 - accuracy: 0.8557 - val_loss: 0.5283 - val_accuracy: 0.8413\n",
            "Epoch 14/20\n",
            "1875/1875 [==============================] - 4s 2ms/step - loss: 0.4197 - accuracy: 0.8574 - val_loss: 0.5874 - val_accuracy: 0.8345\n",
            "Epoch 15/20\n",
            "1875/1875 [==============================] - 4s 2ms/step - loss: 0.4238 - accuracy: 0.8564 - val_loss: 0.5153 - val_accuracy: 0.8348\n",
            "Epoch 16/20\n",
            "1875/1875 [==============================] - 4s 2ms/step - loss: 0.4228 - accuracy: 0.8558 - val_loss: 0.5183 - val_accuracy: 0.8429\n",
            "Epoch 17/20\n",
            "1875/1875 [==============================] - 5s 2ms/step - loss: 0.4274 - accuracy: 0.8579 - val_loss: 0.5244 - val_accuracy: 0.8373\n",
            "Epoch 18/20\n",
            "1875/1875 [==============================] - 5s 2ms/step - loss: 0.4250 - accuracy: 0.8596 - val_loss: 0.5370 - val_accuracy: 0.8475\n",
            "Epoch 19/20\n",
            "1875/1875 [==============================] - 5s 2ms/step - loss: 0.4229 - accuracy: 0.8591 - val_loss: 0.5401 - val_accuracy: 0.8371\n",
            "Epoch 20/20\n",
            "1875/1875 [==============================] - 5s 2ms/step - loss: 0.4189 - accuracy: 0.8600 - val_loss: 0.5414 - val_accuracy: 0.8359\n"
          ]
        }
      ]
    },
    {
      "cell_type": "code",
      "source": [
        "model.summary()"
      ],
      "metadata": {
        "colab": {
          "base_uri": "https://localhost:8080/"
        },
        "id": "p2GetZ3E250M",
        "outputId": "798240da-6668-45f7-d403-05a259e6dc2c"
      },
      "execution_count": 22,
      "outputs": [
        {
          "output_type": "stream",
          "name": "stdout",
          "text": [
            "Model: \"sequential_4\"\n",
            "_________________________________________________________________\n",
            " Layer (type)                Output Shape              Param #   \n",
            "=================================================================\n",
            " flatten_4 (Flatten)         (None, 784)               0         \n",
            "                                                                 \n",
            " dense_12 (Dense)            (None, 1024)              803840    \n",
            "                                                                 \n",
            " dense_13 (Dense)            (None, 10)                10250     \n",
            "                                                                 \n",
            "=================================================================\n",
            "Total params: 814,090\n",
            "Trainable params: 814,090\n",
            "Non-trainable params: 0\n",
            "_________________________________________________________________\n"
          ]
        }
      ]
    },
    {
      "cell_type": "code",
      "source": [
        "ann_eval(model, test_images, test_labels)"
      ],
      "metadata": {
        "colab": {
          "base_uri": "https://localhost:8080/"
        },
        "id": "JrA82Kkb250M",
        "outputId": "db169223-4ee1-4789-e8d0-f3f836efbe44"
      },
      "execution_count": 23,
      "outputs": [
        {
          "output_type": "stream",
          "name": "stdout",
          "text": [
            "313/313 - 1s - loss: 0.5414 - accuracy: 0.8359 - 503ms/epoch - 2ms/step\n",
            "\n",
            "Test accuracy: 0.8359000086784363\n"
          ]
        }
      ]
    },
    {
      "cell_type": "code",
      "source": [
        "ann_loss(history, \"plot1-5.svg\")"
      ],
      "metadata": {
        "colab": {
          "base_uri": "https://localhost:8080/",
          "height": 295
        },
        "id": "Zf1QMd4t250N",
        "outputId": "280ffefe-3e09-4c32-ae09-0b38d99b8d8c"
      },
      "execution_count": 24,
      "outputs": [
        {
          "output_type": "display_data",
          "data": {
            "text/plain": [
              "<Figure size 432x288 with 1 Axes>"
            ],
            "image/png": "[encoded data removed]"
          },
          "metadata": {
            "needs_background": "light"
          }
        }
      ]
    },
    {
      "cell_type": "markdown",
      "source": [
        "### Model 6: Flatten, Dense(1024), Dense(512), Dense(1024), Dense(10)"
      ],
      "metadata": {
        "id": "dhS7P8F226Ya"
      }
    },
    {
      "cell_type": "code",
      "source": [
        "model, history = ann_fashion([1024, 512, 1024])"
      ],
      "metadata": {
        "colab": {
          "base_uri": "https://localhost:8080/"
        },
        "id": "33nLVGUo26Ya",
        "outputId": "747fca9d-925e-4a0e-dcea-3cf59ca907e1"
      },
      "execution_count": 25,
      "outputs": [
        {
          "output_type": "stream",
          "name": "stdout",
          "text": [
            "Epoch 1/20\n",
            "1875/1875 [==============================] - 6s 3ms/step - loss: 1.5409 - accuracy: 0.7186 - val_loss: 0.6719 - val_accuracy: 0.7698\n",
            "Epoch 2/20\n",
            "1875/1875 [==============================] - 5s 3ms/step - loss: 0.6171 - accuracy: 0.7883 - val_loss: 0.6268 - val_accuracy: 0.7686\n",
            "Epoch 3/20\n",
            "1875/1875 [==============================] - 5s 3ms/step - loss: 0.5128 - accuracy: 0.8208 - val_loss: 0.5409 - val_accuracy: 0.8102\n",
            "Epoch 4/20\n",
            "1875/1875 [==============================] - 5s 3ms/step - loss: 0.4600 - accuracy: 0.8349 - val_loss: 0.4409 - val_accuracy: 0.8408\n",
            "Epoch 5/20\n",
            "1875/1875 [==============================] - 5s 3ms/step - loss: 0.4366 - accuracy: 0.8472 - val_loss: 0.4980 - val_accuracy: 0.8278\n",
            "Epoch 6/20\n",
            "1875/1875 [==============================] - 5s 3ms/step - loss: 0.4017 - accuracy: 0.8570 - val_loss: 0.5386 - val_accuracy: 0.8424\n",
            "Epoch 7/20\n",
            "1875/1875 [==============================] - 5s 3ms/step - loss: 0.3893 - accuracy: 0.8598 - val_loss: 0.4596 - val_accuracy: 0.8436\n",
            "Epoch 8/20\n",
            "1875/1875 [==============================] - 6s 3ms/step - loss: 0.3802 - accuracy: 0.8665 - val_loss: 0.4243 - val_accuracy: 0.8546\n",
            "Epoch 9/20\n",
            "1875/1875 [==============================] - 5s 3ms/step - loss: 0.3585 - accuracy: 0.8723 - val_loss: 0.3959 - val_accuracy: 0.8605\n",
            "Epoch 10/20\n",
            "1875/1875 [==============================] - 5s 3ms/step - loss: 0.3409 - accuracy: 0.8780 - val_loss: 0.3848 - val_accuracy: 0.8653\n",
            "Epoch 11/20\n",
            "1875/1875 [==============================] - 5s 3ms/step - loss: 0.3458 - accuracy: 0.8773 - val_loss: 0.4166 - val_accuracy: 0.8618\n",
            "Epoch 12/20\n",
            "1875/1875 [==============================] - 5s 3ms/step - loss: 0.3350 - accuracy: 0.8802 - val_loss: 0.3893 - val_accuracy: 0.8607\n",
            "Epoch 13/20\n",
            "1875/1875 [==============================] - 5s 3ms/step - loss: 0.3259 - accuracy: 0.8821 - val_loss: 0.4514 - val_accuracy: 0.8348\n",
            "Epoch 14/20\n",
            "1875/1875 [==============================] - 5s 3ms/step - loss: 0.3208 - accuracy: 0.8852 - val_loss: 0.3923 - val_accuracy: 0.8591\n",
            "Epoch 15/20\n",
            "1875/1875 [==============================] - 5s 3ms/step - loss: 0.3185 - accuracy: 0.8855 - val_loss: 0.3949 - val_accuracy: 0.8617\n",
            "Epoch 16/20\n",
            "1875/1875 [==============================] - 5s 3ms/step - loss: 0.3164 - accuracy: 0.8874 - val_loss: 0.4017 - val_accuracy: 0.8667\n",
            "Epoch 17/20\n",
            "1875/1875 [==============================] - 5s 3ms/step - loss: 0.3098 - accuracy: 0.8888 - val_loss: 0.4181 - val_accuracy: 0.8728\n",
            "Epoch 18/20\n",
            "1875/1875 [==============================] - 5s 3ms/step - loss: 0.3174 - accuracy: 0.8882 - val_loss: 0.4620 - val_accuracy: 0.8719\n",
            "Epoch 19/20\n",
            "1875/1875 [==============================] - 5s 3ms/step - loss: 0.3038 - accuracy: 0.8926 - val_loss: 0.4245 - val_accuracy: 0.8643\n",
            "Epoch 20/20\n",
            "1875/1875 [==============================] - 5s 3ms/step - loss: 0.3092 - accuracy: 0.8899 - val_loss: 0.4018 - val_accuracy: 0.8718\n"
          ]
        }
      ]
    },
    {
      "cell_type": "code",
      "source": [
        "model.summary()"
      ],
      "metadata": {
        "colab": {
          "base_uri": "https://localhost:8080/"
        },
        "id": "ODevtRxP26Ya",
        "outputId": "e271d93c-7dc8-47f6-b4ea-bbc504af84ec"
      },
      "execution_count": 26,
      "outputs": [
        {
          "output_type": "stream",
          "name": "stdout",
          "text": [
            "Model: \"sequential_5\"\n",
            "_________________________________________________________________\n",
            " Layer (type)                Output Shape              Param #   \n",
            "=================================================================\n",
            " flatten_5 (Flatten)         (None, 784)               0         \n",
            "                                                                 \n",
            " dense_14 (Dense)            (None, 1024)              803840    \n",
            "                                                                 \n",
            " dense_15 (Dense)            (None, 512)               524800    \n",
            "                                                                 \n",
            " dense_16 (Dense)            (None, 1024)              525312    \n",
            "                                                                 \n",
            " dense_17 (Dense)            (None, 10)                10250     \n",
            "                                                                 \n",
            "=================================================================\n",
            "Total params: 1,864,202\n",
            "Trainable params: 1,864,202\n",
            "Non-trainable params: 0\n",
            "_________________________________________________________________\n"
          ]
        }
      ]
    },
    {
      "cell_type": "code",
      "source": [
        "ann_eval(model, test_images, test_labels)"
      ],
      "metadata": {
        "colab": {
          "base_uri": "https://localhost:8080/"
        },
        "id": "diTbTgF_26Ya",
        "outputId": "553b35e7-3ccc-42cd-c48b-b1796e48162d"
      },
      "execution_count": 27,
      "outputs": [
        {
          "output_type": "stream",
          "name": "stdout",
          "text": [
            "313/313 - 1s - loss: 0.4018 - accuracy: 0.8718 - 549ms/epoch - 2ms/step\n",
            "\n",
            "Test accuracy: 0.8718000054359436\n"
          ]
        }
      ]
    },
    {
      "cell_type": "code",
      "source": [
        "ann_loss(history, \"plot1-6.svg\")"
      ],
      "metadata": {
        "colab": {
          "base_uri": "https://localhost:8080/",
          "height": 295
        },
        "id": "uA39ndHV26Yb",
        "outputId": "8597f8cc-fa8f-40d7-d0c4-fc6c1e3b3835"
      },
      "execution_count": 28,
      "outputs": [
        {
          "output_type": "display_data",
          "data": {
            "text/plain": [
              "<Figure size 432x288 with 1 Axes>"
            ],
            "image/png": "[encoded data removed]"
          },
          "metadata": {
            "needs_background": "light"
          }
        }
      ]
    },
    {
      "cell_type": "markdown",
      "source": [
        "### Model 7: Flatten, Dense(1024), Dense(1024), Dense(1024), Dense(10)"
      ],
      "metadata": {
        "id": "eEY9NZRrOvpy"
      }
    },
    {
      "cell_type": "code",
      "source": [
        "model, history = ann_fashion([1024, 1024, 1024])"
      ],
      "metadata": {
        "colab": {
          "base_uri": "https://localhost:8080/"
        },
        "outputId": "1827f1c1-719a-4779-918a-c43cf60442d6",
        "id": "-dASjdPfOvp4"
      },
      "execution_count": 36,
      "outputs": [
        {
          "output_type": "stream",
          "name": "stdout",
          "text": [
            "Epoch 1/20\n",
            "1875/1875 [==============================] - 10s 5ms/step - loss: 1.8093 - accuracy: 0.7888 - val_loss: 0.5391 - val_accuracy: 0.8208\n",
            "Epoch 2/20\n",
            "1875/1875 [==============================] - 6s 3ms/step - loss: 0.4503 - accuracy: 0.8404 - val_loss: 0.4764 - val_accuracy: 0.8370\n",
            "Epoch 3/20\n",
            "1875/1875 [==============================] - 5s 3ms/step - loss: 0.4176 - accuracy: 0.8505 - val_loss: 0.5057 - val_accuracy: 0.8397\n",
            "Epoch 4/20\n",
            "1875/1875 [==============================] - 5s 3ms/step - loss: 0.4013 - accuracy: 0.8579 - val_loss: 0.5703 - val_accuracy: 0.8142\n",
            "Epoch 5/20\n",
            "1875/1875 [==============================] - 5s 3ms/step - loss: 0.3812 - accuracy: 0.8658 - val_loss: 0.4653 - val_accuracy: 0.8400\n",
            "Epoch 6/20\n",
            "1875/1875 [==============================] - 5s 3ms/step - loss: 0.3699 - accuracy: 0.8699 - val_loss: 0.3879 - val_accuracy: 0.8611\n",
            "Epoch 7/20\n",
            "1875/1875 [==============================] - 5s 3ms/step - loss: 0.3547 - accuracy: 0.8735 - val_loss: 0.4112 - val_accuracy: 0.8667\n",
            "Epoch 8/20\n",
            "1875/1875 [==============================] - 5s 3ms/step - loss: 0.3513 - accuracy: 0.8754 - val_loss: 0.4413 - val_accuracy: 0.8496\n",
            "Epoch 9/20\n",
            "1875/1875 [==============================] - 5s 3ms/step - loss: 0.3431 - accuracy: 0.8796 - val_loss: 0.4088 - val_accuracy: 0.8584\n",
            "Epoch 10/20\n",
            "1875/1875 [==============================] - 5s 3ms/step - loss: 0.3316 - accuracy: 0.8817 - val_loss: 0.4457 - val_accuracy: 0.8468\n",
            "Epoch 11/20\n",
            "1875/1875 [==============================] - 6s 3ms/step - loss: 0.3291 - accuracy: 0.8831 - val_loss: 0.4015 - val_accuracy: 0.8635\n",
            "Epoch 12/20\n",
            "1875/1875 [==============================] - 6s 3ms/step - loss: 0.3173 - accuracy: 0.8878 - val_loss: 0.3927 - val_accuracy: 0.8679\n",
            "Epoch 13/20\n",
            "1875/1875 [==============================] - 5s 3ms/step - loss: 0.3087 - accuracy: 0.8900 - val_loss: 0.3730 - val_accuracy: 0.8705\n",
            "Epoch 14/20\n",
            "1875/1875 [==============================] - 6s 3ms/step - loss: 0.3056 - accuracy: 0.8906 - val_loss: 0.3924 - val_accuracy: 0.8692\n",
            "Epoch 15/20\n",
            "1875/1875 [==============================] - 5s 3ms/step - loss: 0.3019 - accuracy: 0.8911 - val_loss: 0.4041 - val_accuracy: 0.8659\n",
            "Epoch 16/20\n",
            "1875/1875 [==============================] - 5s 3ms/step - loss: 0.3031 - accuracy: 0.8933 - val_loss: 0.3992 - val_accuracy: 0.8720\n",
            "Epoch 17/20\n",
            "1875/1875 [==============================] - 5s 3ms/step - loss: 0.2955 - accuracy: 0.8954 - val_loss: 0.4307 - val_accuracy: 0.8675\n",
            "Epoch 18/20\n",
            "1875/1875 [==============================] - 5s 3ms/step - loss: 0.2870 - accuracy: 0.8972 - val_loss: 0.4248 - val_accuracy: 0.8781\n",
            "Epoch 19/20\n",
            "1875/1875 [==============================] - 5s 3ms/step - loss: 0.2858 - accuracy: 0.8992 - val_loss: 0.4155 - val_accuracy: 0.8651\n",
            "Epoch 20/20\n",
            "1875/1875 [==============================] - 5s 3ms/step - loss: 0.2943 - accuracy: 0.8968 - val_loss: 0.4071 - val_accuracy: 0.8708\n"
          ]
        }
      ]
    },
    {
      "cell_type": "code",
      "source": [
        "model.summary()"
      ],
      "metadata": {
        "colab": {
          "base_uri": "https://localhost:8080/"
        },
        "outputId": "d9eb1eac-0e26-4ecb-deeb-c1fb56f5a961",
        "id": "iZo_N29-Ovp5"
      },
      "execution_count": 37,
      "outputs": [
        {
          "output_type": "stream",
          "name": "stdout",
          "text": [
            "Model: \"sequential_7\"\n",
            "_________________________________________________________________\n",
            " Layer (type)                Output Shape              Param #   \n",
            "=================================================================\n",
            " flatten_7 (Flatten)         (None, 784)               0         \n",
            "                                                                 \n",
            " dense_22 (Dense)            (None, 1024)              803840    \n",
            "                                                                 \n",
            " dense_23 (Dense)            (None, 1024)              1049600   \n",
            "                                                                 \n",
            " dense_24 (Dense)            (None, 1024)              1049600   \n",
            "                                                                 \n",
            " dense_25 (Dense)            (None, 10)                10250     \n",
            "                                                                 \n",
            "=================================================================\n",
            "Total params: 2,913,290\n",
            "Trainable params: 2,913,290\n",
            "Non-trainable params: 0\n",
            "_________________________________________________________________\n"
          ]
        }
      ]
    },
    {
      "cell_type": "code",
      "source": [
        "ann_eval(model, test_images, test_labels)"
      ],
      "metadata": {
        "colab": {
          "base_uri": "https://localhost:8080/"
        },
        "outputId": "080f9e20-af57-4d45-b11a-13690b9da9c5",
        "id": "vuNP67Z1Ovp5"
      },
      "execution_count": 38,
      "outputs": [
        {
          "output_type": "stream",
          "name": "stdout",
          "text": [
            "313/313 - 1s - loss: 0.4071 - accuracy: 0.8708 - 565ms/epoch - 2ms/step\n",
            "\n",
            "Test accuracy: 0.8708000183105469\n"
          ]
        }
      ]
    },
    {
      "cell_type": "code",
      "source": [
        "ann_loss(history, \"plot1-7.svg\")"
      ],
      "metadata": {
        "colab": {
          "base_uri": "https://localhost:8080/",
          "height": 295
        },
        "outputId": "3b4ed04a-33bd-4b43-a242-df86e277d176",
        "id": "u694dRw3Ovp5"
      },
      "execution_count": 39,
      "outputs": [
        {
          "output_type": "display_data",
          "data": {
            "text/plain": [
              "<Figure size 432x288 with 1 Axes>"
            ],
            "image/png": "[encoded data removed]"
          },
          "metadata": {
            "needs_background": "light"
          }
        }
      ]
    },
    {
      "cell_type": "markdown",
      "source": [
        "## Shift images and train model"
      ],
      "metadata": {
        "id": "Sq2Bcqthbx0I"
      }
    },
    {
      "cell_type": "code",
      "source": [
        "test_images_shifted = np.roll(test_images, 4, axis=1)"
      ],
      "metadata": {
        "id": "1eKvHeedb6Gl"
      },
      "execution_count": 40,
      "outputs": []
    },
    {
      "cell_type": "code",
      "source": [
        "#@title Show Orginal and shifted image\n",
        "Image_number = 444 #@param {type:\"integer\"}\n",
        "\n",
        "plt.subplot(1, 2, 1)\n",
        "plt.imshow(test_images[Image_number], cmap=plt.cm.binary)\n",
        "plt.xlabel('Orginal Image')\n",
        "plt.subplot(1, 2, 2)\n",
        "plt.imshow(test_images_shifted[Image_number], cmap=plt.cm.binary)\n",
        "plt.xlabel('Shifted Image')\n",
        "plt.savefig(\"oi.svg\")"
      ],
      "metadata": {
        "colab": {
          "base_uri": "https://localhost:8080/",
          "height": 215
        },
        "cellView": "form",
        "id": "BTmdGfoVseJT",
        "outputId": "897f9bbe-9a3e-4fd6-d249-46941ca5019f"
      },
      "execution_count": 41,
      "outputs": [
        {
          "output_type": "display_data",
          "data": {
            "text/plain": [
              "<Figure size 432x288 with 2 Axes>"
            ],
            "image/png": "[encoded data removed]"
          },
          "metadata": {
            "needs_background": "light"
          }
        }
      ]
    },
    {
      "cell_type": "code",
      "source": [
        "ann_eval(model, test_images_shifted, test_labels)"
      ],
      "metadata": {
        "colab": {
          "base_uri": "https://localhost:8080/"
        },
        "outputId": "8ca7fab7-21ee-4af5-f9a5-bf152ec282ec",
        "id": "Ka2DW5Agbx0P"
      },
      "execution_count": 42,
      "outputs": [
        {
          "output_type": "stream",
          "name": "stdout",
          "text": [
            "313/313 - 1s - loss: 3.9137 - accuracy: 0.5508 - 585ms/epoch - 2ms/step\n",
            "\n",
            "Test accuracy: 0.5508000254631042\n"
          ]
        }
      ]
    }
  ]
}