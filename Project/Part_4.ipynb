{
  "nbformat": 4,
  "nbformat_minor": 0,
  "metadata": {
    "colab": {
      "name": "MLP-Part-4",
      "provenance": [],
      "collapsed_sections": [
        "TgAA-7de--Bm",
        "gszIbdpATY_e",
        "OX21U_5IVhoL",
        "cRDNIh1F_CPH",
        "toxtrfRkIoqB",
        "9to6AprTIxWn"
      ],
      "authorship_tag": "ABX9TyORZTb/EnL79QXeyvZZmwV3",
      "include_colab_link": true
    },
    "kernelspec": {
      "name": "python3",
      "display_name": "Python 3"
    },
    "language_info": {
      "name": "python"
    },
    "gpuClass": "standard"
  },
  "cells": [
    {
      "cell_type": "markdown",
      "metadata": {
        "id": "view-in-github",
        "colab_type": "text"
      },
      "source": [
        "<a href=\"https://colab.research.google.com/github/saeedgolzar/AML_Course/blob/main/Project/Part_4.ipynb\" target=\"_parent\"><img src=\"https://colab.research.google.com/assets/colab-badge.svg\" alt=\"Open In Colab\"/></a>"
      ]
    },
    {
      "cell_type": "markdown",
      "source": [
        "# Applied Machine Learning Project\n",
        "\n",
        "Saeed Golzar | Summer 2022\n",
        "\n",
        "---"
      ],
      "metadata": {
        "id": "mhhWCNOe9hVK"
      }
    },
    {
      "cell_type": "markdown",
      "source": [
        "Import libraries"
      ],
      "metadata": {
        "id": "UWcVmiGK7J84"
      }
    },
    {
      "cell_type": "code",
      "source": [
        "import os\n",
        "import re\n",
        "import random\n",
        "import pandas as pd\n",
        "import seaborn as sns\n",
        "import tensorflow as tf\n",
        "import matplotlib.pyplot as plt\n",
        "from zipfile import ZipFile\n",
        "from google.colab import data_table\n",
        "from difflib import SequenceMatcher\n",
        "from sklearn.model_selection import train_test_split\n",
        "data_table.enable_dataframe_formatter()"
      ],
      "metadata": {
        "id": "xfhEiX917Vob",
        "cellView": "code"
      },
      "execution_count": 2,
      "outputs": []
    },
    {
      "cell_type": "markdown",
      "source": [
        "# Part 4: Pile Bearing Capacity by ML"
      ],
      "metadata": {
        "id": "YeRYkga8_CdD"
      }
    },
    {
      "cell_type": "code",
      "source": [
        "!gdown 1BZLSTUM4f5G-yQA-G0lsboudJdDqUVGD -q\n",
        "\n",
        "zf = ZipFile('/content/Records.zip', 'r')\n",
        "zf.extractall()\n",
        "zf.close()"
      ],
      "metadata": {
        "id": "mVtf9gWfQZLw"
      },
      "execution_count": 3,
      "outputs": []
    },
    {
      "cell_type": "code",
      "source": [
        "CPT = dict()\n",
        "directory = 'Records/CPTs'\n",
        "for root, dirs, files in os.walk(directory):\n",
        "  for filename in files:\n",
        "    name = os.path.splitext(filename)[0][:-4]\n",
        "    CPT[name] = pd.read_excel(os.path.join('/content/Records/CPTs/',filename), sheet_name=1, skiprows=1 , usecols=lambda x: 'Unnamed' not in x)"
      ],
      "metadata": {
        "id": "nfB2OecA6vZ0"
      },
      "execution_count": 4,
      "outputs": []
    },
    {
      "cell_type": "code",
      "source": [
        "for key in CPT:\n",
        "  try: \n",
        "    CPT[key] = CPT[key][['Z (m)', 'qc (MPa)', 'fs (MPa)']]\n",
        "  except:\n",
        "    CPT[key] = CPT[key][['Z (m)', 'qt (MPa)', 'fs (MPa)']]"
      ],
      "metadata": {
        "id": "k4XWexqRGJHR"
      },
      "execution_count": 5,
      "outputs": []
    },
    {
      "cell_type": "code",
      "source": [
        "!gdown 1gpexAg2ia6NU8zO2d7-B0N45bmiV0Uh2 -q\n",
        "\n",
        "df = pd.read_excel('/content/CPT-Data.xlsx')"
      ],
      "metadata": {
        "id": "2KR_jAyJdUPC"
      },
      "execution_count": 6,
      "outputs": []
    },
    {
      "cell_type": "code",
      "source": [
        "def similar(a, b):\n",
        "    return SequenceMatcher(None, a, b).ratio()"
      ],
      "metadata": {
        "id": "s-hBQVbTN3fT"
      },
      "execution_count": 7,
      "outputs": []
    },
    {
      "cell_type": "code",
      "source": [
        "df['FileName'] = df.apply(lambda _: '', axis=1)\n",
        "\n",
        "if __name__ == '__main__':\n",
        "  for index, row in df.iterrows():\n",
        "    sim = 0\n",
        "    for key in CPT:\n",
        "      if similar(df['Case ID'][index], key) > sim:\n",
        "        sim = similar(df['Case ID'][index], key)\n",
        "        filename = key\n",
        "      if df['Case ID'][index] in key:\n",
        "        filename = key\n",
        "    df['FileName'][index] = filename"
      ],
      "metadata": {
        "id": "KJvisTlGdscz",
        "colab": {
          "base_uri": "https://localhost:8080/"
        },
        "outputId": "f97271c0-3c65-4a91-ffcb-ed78a9d0ea7c"
      },
      "execution_count": 8,
      "outputs": [
        {
          "output_type": "stream",
          "name": "stderr",
          "text": [
            "/usr/local/lib/python3.7/dist-packages/ipykernel_launcher.py:12: SettingWithCopyWarning: \n",
            "A value is trying to be set on a copy of a slice from a DataFrame\n",
            "\n",
            "See the caveats in the documentation: https://pandas.pydata.org/pandas-docs/stable/user_guide/indexing.html#returning-a-view-versus-a-copy\n",
            "  if sys.path[0] == '':\n"
          ]
        }
      ]
    },
    {
      "cell_type": "code",
      "source": [
        "df = df[['FileName'] + [col for col in df.columns if col != 'FileName']]\n",
        "df = df[['Case ID'] + [col for col in df.columns if col != 'Case ID']]"
      ],
      "metadata": {
        "id": "GEfU8BEC341L"
      },
      "execution_count": 9,
      "outputs": []
    },
    {
      "cell_type": "code",
      "source": [
        "df.head(10)"
      ],
      "metadata": {
        "colab": {
          "base_uri": "https://localhost:8080/",
          "height": 487
        },
        "id": "SCKRuDmFQmLa",
        "outputId": "66c7bb2e-9cda-4828-c545-d7f74d106150"
      },
      "execution_count": 10,
      "outputs": [
        {
          "output_type": "execute_result",
          "data": {
            "text/plain": [
              "       Case ID     FileName  Case No    PY  Pile No   Shape  Material  \\\n",
              "0     001-A&M1  001-A&M14-H      2.0  1996        1  Square  Concrete   \n",
              "1    001-A&M40    001-A&M40     21.0  1996       21  Square  Concrete   \n",
              "2    001-A&M87    001-A&M87     36.0  1996       36  Square  Concrete   \n",
              "3     001-A&N2     001-A&M1     42.0  1996       42  Square  Concrete   \n",
              "4    001-BGHD1    001-BGHD1     45.0  1996       45  Square  Concrete   \n",
              "5      001-KP1    001-KP1-H     63.0  1996       63  H Pile     Steel   \n",
              "6    001-L&D37    001-L&D37     75.0  1996       75    Pipe     Steel   \n",
              "7   001-LSUB12   001-LSUB12     81.0  1996       81   Round  Concrete   \n",
              "8   001-LTN484   001-LTN484     90.0  1996       90   Round  Concrete   \n",
              "9  001-N&SBI43  001-N&SBI43    102.0  1996      102    Pipe     Steel   \n",
              "\n",
              "   Embedment Length, D (m) Installation  Cross Sectional Area, At (m2)  \\\n",
              "0                     8.80       Driven                       0.160000   \n",
              "1                    16.00       Driven                       0.122500   \n",
              "2                     7.40       Driven                       0.160000   \n",
              "3                    13.75       Driven                       0.202500   \n",
              "4                    11.00       Driven                       0.081225   \n",
              "5                    14.00       Driven                       0.046000   \n",
              "6                    14.60       Driven                       0.125664   \n",
              "7                    37.80       Driven                       0.636173   \n",
              "8                     7.60        Bored                       0.159043   \n",
              "9                    22.50       Driven                       0.058535   \n",
              "\n",
              "   Equivalent Diameters  Total Capacity, Ru, kN (Test No1) GWL (m)  \\\n",
              "0                 400.0                             1140.0     0.0   \n",
              "1                 350.0                             1070.0     0.0   \n",
              "2                 400.0                              640.0     0.0   \n",
              "3                 450.0                             4250.0     0.0   \n",
              "4                 285.0                             1000.0     6.0   \n",
              "5                 400.0                             3500.0     1.0   \n",
              "6                 400.0                             1800.0     0.0   \n",
              "7                 900.0                             3960.0     0.0   \n",
              "8                 450.0                              750.0     0.0   \n",
              "9                 273.0                             1620.0     0.0   \n",
              "\n",
              "   CPT Depth (m)    qc    fs      u   Sand   Clay    Mix  \n",
              "0          14.00  True  True  False  False  False   True  \n",
              "1          24.50  True  True  False   True  False  False  \n",
              "2          13.33  True  True  False  False   True  False  \n",
              "3          17.00  True  True  False   True  False  False  \n",
              "4          20.00  True  True  False   True  False  False  \n",
              "5          17.00  True  True  False   True  False  False  \n",
              "6          19.00  True  True  False   True  False  False  \n",
              "7          42.40  True  True  False  False  False   True  \n",
              "8          11.40  True  True  False  False  False   True  \n",
              "9          24.60  True  True  False   True  False  False  "
            ],
            "text/html": [
              "\n",
              "  <div id=\"df-382f21b9-9e87-4081-ba95-9cdbe2834263\">\n",
              "    <div class=\"colab-df-container\">\n",
              "      <div>\n",
              "<style scoped>\n",
              "    .dataframe tbody tr th:only-of-type {\n",
              "        vertical-align: middle;\n",
              "    }\n",
              "\n",
              "    .dataframe tbody tr th {\n",
              "        vertical-align: top;\n",
              "    }\n",
              "\n",
              "    .dataframe thead th {\n",
              "        text-align: right;\n",
              "    }\n",
              "</style>\n",
              "<table border=\"1\" class=\"dataframe\">\n",
              "  <thead>\n",
              "    <tr style=\"text-align: right;\">\n",
              "      <th></th>\n",
              "      <th>Case ID</th>\n",
              "      <th>FileName</th>\n",
              "      <th>Case No</th>\n",
              "      <th>PY</th>\n",
              "      <th>Pile No</th>\n",
              "      <th>Shape</th>\n",
              "      <th>Material</th>\n",
              "      <th>Embedment Length, D (m)</th>\n",
              "      <th>Installation</th>\n",
              "      <th>Cross Sectional Area, At (m2)</th>\n",
              "      <th>Equivalent Diameters</th>\n",
              "      <th>Total Capacity, Ru, kN (Test No1)</th>\n",
              "      <th>GWL (m)</th>\n",
              "      <th>CPT Depth (m)</th>\n",
              "      <th>qc</th>\n",
              "      <th>fs</th>\n",
              "      <th>u</th>\n",
              "      <th>Sand</th>\n",
              "      <th>Clay</th>\n",
              "      <th>Mix</th>\n",
              "    </tr>\n",
              "  </thead>\n",
              "  <tbody>\n",
              "    <tr>\n",
              "      <th>0</th>\n",
              "      <td>001-A&amp;M1</td>\n",
              "      <td>001-A&amp;M14-H</td>\n",
              "      <td>2.0</td>\n",
              "      <td>1996</td>\n",
              "      <td>1</td>\n",
              "      <td>Square</td>\n",
              "      <td>Concrete</td>\n",
              "      <td>8.80</td>\n",
              "      <td>Driven</td>\n",
              "      <td>0.160000</td>\n",
              "      <td>400.0</td>\n",
              "      <td>1140.0</td>\n",
              "      <td>0.0</td>\n",
              "      <td>14.00</td>\n",
              "      <td>True</td>\n",
              "      <td>True</td>\n",
              "      <td>False</td>\n",
              "      <td>False</td>\n",
              "      <td>False</td>\n",
              "      <td>True</td>\n",
              "    </tr>\n",
              "    <tr>\n",
              "      <th>1</th>\n",
              "      <td>001-A&amp;M40</td>\n",
              "      <td>001-A&amp;M40</td>\n",
              "      <td>21.0</td>\n",
              "      <td>1996</td>\n",
              "      <td>21</td>\n",
              "      <td>Square</td>\n",
              "      <td>Concrete</td>\n",
              "      <td>16.00</td>\n",
              "      <td>Driven</td>\n",
              "      <td>0.122500</td>\n",
              "      <td>350.0</td>\n",
              "      <td>1070.0</td>\n",
              "      <td>0.0</td>\n",
              "      <td>24.50</td>\n",
              "      <td>True</td>\n",
              "      <td>True</td>\n",
              "      <td>False</td>\n",
              "      <td>True</td>\n",
              "      <td>False</td>\n",
              "      <td>False</td>\n",
              "    </tr>\n",
              "    <tr>\n",
              "      <th>2</th>\n",
              "      <td>001-A&amp;M87</td>\n",
              "      <td>001-A&amp;M87</td>\n",
              "      <td>36.0</td>\n",
              "      <td>1996</td>\n",
              "      <td>36</td>\n",
              "      <td>Square</td>\n",
              "      <td>Concrete</td>\n",
              "      <td>7.40</td>\n",
              "      <td>Driven</td>\n",
              "      <td>0.160000</td>\n",
              "      <td>400.0</td>\n",
              "      <td>640.0</td>\n",
              "      <td>0.0</td>\n",
              "      <td>13.33</td>\n",
              "      <td>True</td>\n",
              "      <td>True</td>\n",
              "      <td>False</td>\n",
              "      <td>False</td>\n",
              "      <td>True</td>\n",
              "      <td>False</td>\n",
              "    </tr>\n",
              "    <tr>\n",
              "      <th>3</th>\n",
              "      <td>001-A&amp;N2</td>\n",
              "      <td>001-A&amp;M1</td>\n",
              "      <td>42.0</td>\n",
              "      <td>1996</td>\n",
              "      <td>42</td>\n",
              "      <td>Square</td>\n",
              "      <td>Concrete</td>\n",
              "      <td>13.75</td>\n",
              "      <td>Driven</td>\n",
              "      <td>0.202500</td>\n",
              "      <td>450.0</td>\n",
              "      <td>4250.0</td>\n",
              "      <td>0.0</td>\n",
              "      <td>17.00</td>\n",
              "      <td>True</td>\n",
              "      <td>True</td>\n",
              "      <td>False</td>\n",
              "      <td>True</td>\n",
              "      <td>False</td>\n",
              "      <td>False</td>\n",
              "    </tr>\n",
              "    <tr>\n",
              "      <th>4</th>\n",
              "      <td>001-BGHD1</td>\n",
              "      <td>001-BGHD1</td>\n",
              "      <td>45.0</td>\n",
              "      <td>1996</td>\n",
              "      <td>45</td>\n",
              "      <td>Square</td>\n",
              "      <td>Concrete</td>\n",
              "      <td>11.00</td>\n",
              "      <td>Driven</td>\n",
              "      <td>0.081225</td>\n",
              "      <td>285.0</td>\n",
              "      <td>1000.0</td>\n",
              "      <td>6.0</td>\n",
              "      <td>20.00</td>\n",
              "      <td>True</td>\n",
              "      <td>True</td>\n",
              "      <td>False</td>\n",
              "      <td>True</td>\n",
              "      <td>False</td>\n",
              "      <td>False</td>\n",
              "    </tr>\n",
              "    <tr>\n",
              "      <th>5</th>\n",
              "      <td>001-KP1</td>\n",
              "      <td>001-KP1-H</td>\n",
              "      <td>63.0</td>\n",
              "      <td>1996</td>\n",
              "      <td>63</td>\n",
              "      <td>H Pile</td>\n",
              "      <td>Steel</td>\n",
              "      <td>14.00</td>\n",
              "      <td>Driven</td>\n",
              "      <td>0.046000</td>\n",
              "      <td>400.0</td>\n",
              "      <td>3500.0</td>\n",
              "      <td>1.0</td>\n",
              "      <td>17.00</td>\n",
              "      <td>True</td>\n",
              "      <td>True</td>\n",
              "      <td>False</td>\n",
              "      <td>True</td>\n",
              "      <td>False</td>\n",
              "      <td>False</td>\n",
              "    </tr>\n",
              "    <tr>\n",
              "      <th>6</th>\n",
              "      <td>001-L&amp;D37</td>\n",
              "      <td>001-L&amp;D37</td>\n",
              "      <td>75.0</td>\n",
              "      <td>1996</td>\n",
              "      <td>75</td>\n",
              "      <td>Pipe</td>\n",
              "      <td>Steel</td>\n",
              "      <td>14.60</td>\n",
              "      <td>Driven</td>\n",
              "      <td>0.125664</td>\n",
              "      <td>400.0</td>\n",
              "      <td>1800.0</td>\n",
              "      <td>0.0</td>\n",
              "      <td>19.00</td>\n",
              "      <td>True</td>\n",
              "      <td>True</td>\n",
              "      <td>False</td>\n",
              "      <td>True</td>\n",
              "      <td>False</td>\n",
              "      <td>False</td>\n",
              "    </tr>\n",
              "    <tr>\n",
              "      <th>7</th>\n",
              "      <td>001-LSUB12</td>\n",
              "      <td>001-LSUB12</td>\n",
              "      <td>81.0</td>\n",
              "      <td>1996</td>\n",
              "      <td>81</td>\n",
              "      <td>Round</td>\n",
              "      <td>Concrete</td>\n",
              "      <td>37.80</td>\n",
              "      <td>Driven</td>\n",
              "      <td>0.636173</td>\n",
              "      <td>900.0</td>\n",
              "      <td>3960.0</td>\n",
              "      <td>0.0</td>\n",
              "      <td>42.40</td>\n",
              "      <td>True</td>\n",
              "      <td>True</td>\n",
              "      <td>False</td>\n",
              "      <td>False</td>\n",
              "      <td>False</td>\n",
              "      <td>True</td>\n",
              "    </tr>\n",
              "    <tr>\n",
              "      <th>8</th>\n",
              "      <td>001-LTN484</td>\n",
              "      <td>001-LTN484</td>\n",
              "      <td>90.0</td>\n",
              "      <td>1996</td>\n",
              "      <td>90</td>\n",
              "      <td>Round</td>\n",
              "      <td>Concrete</td>\n",
              "      <td>7.60</td>\n",
              "      <td>Bored</td>\n",
              "      <td>0.159043</td>\n",
              "      <td>450.0</td>\n",
              "      <td>750.0</td>\n",
              "      <td>0.0</td>\n",
              "      <td>11.40</td>\n",
              "      <td>True</td>\n",
              "      <td>True</td>\n",
              "      <td>False</td>\n",
              "      <td>False</td>\n",
              "      <td>False</td>\n",
              "      <td>True</td>\n",
              "    </tr>\n",
              "    <tr>\n",
              "      <th>9</th>\n",
              "      <td>001-N&amp;SBI43</td>\n",
              "      <td>001-N&amp;SBI43</td>\n",
              "      <td>102.0</td>\n",
              "      <td>1996</td>\n",
              "      <td>102</td>\n",
              "      <td>Pipe</td>\n",
              "      <td>Steel</td>\n",
              "      <td>22.50</td>\n",
              "      <td>Driven</td>\n",
              "      <td>0.058535</td>\n",
              "      <td>273.0</td>\n",
              "      <td>1620.0</td>\n",
              "      <td>0.0</td>\n",
              "      <td>24.60</td>\n",
              "      <td>True</td>\n",
              "      <td>True</td>\n",
              "      <td>False</td>\n",
              "      <td>True</td>\n",
              "      <td>False</td>\n",
              "      <td>False</td>\n",
              "    </tr>\n",
              "  </tbody>\n",
              "</table>\n",
              "</div>\n",
              "      <button class=\"colab-df-convert\" onclick=\"convertToInteractive('df-382f21b9-9e87-4081-ba95-9cdbe2834263')\"\n",
              "              title=\"Convert this dataframe to an interactive table.\"\n",
              "              style=\"display:none;\">\n",
              "        \n",
              "  <svg xmlns=\"http://www.w3.org/2000/svg\" height=\"24px\"viewBox=\"0 0 24 24\"\n",
              "       width=\"24px\">\n",
              "    <path d=\"M0 0h24v24H0V0z\" fill=\"none\"/>\n",
              "    <path d=\"M18.56 5.44l.94 2.06.94-2.06 2.06-.94-2.06-.94-.94-2.06-.94 2.06-2.06.94zm-11 1L8.5 8.5l.94-2.06 2.06-.94-2.06-.94L8.5 2.5l-.94 2.06-2.06.94zm10 10l.94 2.06.94-2.06 2.06-.94-2.06-.94-.94-2.06-.94 2.06-2.06.94z\"/><path d=\"M17.41 7.96l-1.37-1.37c-.4-.4-.92-.59-1.43-.59-.52 0-1.04.2-1.43.59L10.3 9.45l-7.72 7.72c-.78.78-.78 2.05 0 2.83L4 21.41c.39.39.9.59 1.41.59.51 0 1.02-.2 1.41-.59l7.78-7.78 2.81-2.81c.8-.78.8-2.07 0-2.86zM5.41 20L4 18.59l7.72-7.72 1.47 1.35L5.41 20z\"/>\n",
              "  </svg>\n",
              "      </button>\n",
              "      \n",
              "  <style>\n",
              "    .colab-df-container {\n",
              "      display:flex;\n",
              "      flex-wrap:wrap;\n",
              "      gap: 12px;\n",
              "    }\n",
              "\n",
              "    .colab-df-convert {\n",
              "      background-color: #E8F0FE;\n",
              "      border: none;\n",
              "      border-radius: 50%;\n",
              "      cursor: pointer;\n",
              "      display: none;\n",
              "      fill: #1967D2;\n",
              "      height: 32px;\n",
              "      padding: 0 0 0 0;\n",
              "      width: 32px;\n",
              "    }\n",
              "\n",
              "    .colab-df-convert:hover {\n",
              "      background-color: #E2EBFA;\n",
              "      box-shadow: 0px 1px 2px rgba(60, 64, 67, 0.3), 0px 1px 3px 1px rgba(60, 64, 67, 0.15);\n",
              "      fill: #174EA6;\n",
              "    }\n",
              "\n",
              "    [theme=dark] .colab-df-convert {\n",
              "      background-color: #3B4455;\n",
              "      fill: #D2E3FC;\n",
              "    }\n",
              "\n",
              "    [theme=dark] .colab-df-convert:hover {\n",
              "      background-color: #434B5C;\n",
              "      box-shadow: 0px 1px 3px 1px rgba(0, 0, 0, 0.15);\n",
              "      filter: drop-shadow(0px 1px 2px rgba(0, 0, 0, 0.3));\n",
              "      fill: #FFFFFF;\n",
              "    }\n",
              "  </style>\n",
              "\n",
              "      <script>\n",
              "        const buttonEl =\n",
              "          document.querySelector('#df-382f21b9-9e87-4081-ba95-9cdbe2834263 button.colab-df-convert');\n",
              "        buttonEl.style.display =\n",
              "          google.colab.kernel.accessAllowed ? 'block' : 'none';\n",
              "\n",
              "        async function convertToInteractive(key) {\n",
              "          const element = document.querySelector('#df-382f21b9-9e87-4081-ba95-9cdbe2834263');\n",
              "          const dataTable =\n",
              "            await google.colab.kernel.invokeFunction('convertToInteractive',\n",
              "                                                     [key], {});\n",
              "          if (!dataTable) return;\n",
              "\n",
              "          const docLinkHtml = 'Like what you see? Visit the ' +\n",
              "            '<a target=\"_blank\" href=https://colab.research.google.com/notebooks/data_table.ipynb>data table notebook</a>'\n",
              "            + ' to learn more about interactive tables.';\n",
              "          element.innerHTML = '';\n",
              "          dataTable['output_type'] = 'display_data';\n",
              "          await google.colab.output.renderOutput(dataTable, element);\n",
              "          const docLink = document.createElement('div');\n",
              "          docLink.innerHTML = docLinkHtml;\n",
              "          element.appendChild(docLink);\n",
              "        }\n",
              "      </script>\n",
              "    </div>\n",
              "  </div>\n",
              "  "
            ],
            "application/vnd.google.colaboratory.module+javascript": "\n      import \"https://ssl.gstatic.com/colaboratory/data_table/a8bd4d5e58f96183/data_table.js\";\n\n      window.createDataTable({\n        data: [[{\n            'v': 0,\n            'f': \"0\",\n        },\n\"001-A&M1\",\n\"001-A&M14-H\",\n{\n            'v': 2.0,\n            'f': \"2.0\",\n        },\n{\n            'v': 1996,\n            'f': \"1996\",\n        },\n{\n            'v': 1,\n            'f': \"1\",\n        },\n\"Square\",\n\"Concrete\",\n{\n            'v': 8.8,\n            'f': \"8.8\",\n        },\n\"Driven\",\n{\n            'v': 0.16,\n            'f': \"0.16\",\n        },\n{\n            'v': 400.0,\n            'f': \"400.0\",\n        },\n{\n            'v': 1140.0,\n            'f': \"1140.0\",\n        },\n\"0.0\",\n{\n            'v': 14.0,\n            'f': \"14.0\",\n        },\ntrue,\ntrue,\nfalse,\nfalse,\nfalse,\ntrue],\n [{\n            'v': 1,\n            'f': \"1\",\n        },\n\"001-A&M40\",\n\"001-A&M40\",\n{\n            'v': 21.0,\n            'f': \"21.0\",\n        },\n{\n            'v': 1996,\n            'f': \"1996\",\n        },\n{\n            'v': 21,\n            'f': \"21\",\n        },\n\"Square\",\n\"Concrete\",\n{\n            'v': 16.0,\n            'f': \"16.0\",\n        },\n\"Driven\",\n{\n            'v': 0.1225,\n            'f': \"0.1225\",\n        },\n{\n            'v': 350.0,\n            'f': \"350.0\",\n        },\n{\n            'v': 1070.0,\n            'f': \"1070.0\",\n        },\n\"0.0\",\n{\n            'v': 24.5,\n            'f': \"24.5\",\n        },\ntrue,\ntrue,\nfalse,\ntrue,\nfalse,\nfalse],\n [{\n            'v': 2,\n            'f': \"2\",\n        },\n\"001-A&M87\",\n\"001-A&M87\",\n{\n            'v': 36.0,\n            'f': \"36.0\",\n        },\n{\n            'v': 1996,\n            'f': \"1996\",\n        },\n{\n            'v': 36,\n            'f': \"36\",\n        },\n\"Square\",\n\"Concrete\",\n{\n            'v': 7.4,\n            'f': \"7.4\",\n        },\n\"Driven\",\n{\n            'v': 0.16,\n            'f': \"0.16\",\n        },\n{\n            'v': 400.0,\n            'f': \"400.0\",\n        },\n{\n            'v': 640.0,\n            'f': \"640.0\",\n        },\n\"0.0\",\n{\n            'v': 13.33,\n            'f': \"13.33\",\n        },\ntrue,\ntrue,\nfalse,\nfalse,\ntrue,\nfalse],\n [{\n            'v': 3,\n            'f': \"3\",\n        },\n\"001-A&N2\",\n\"001-A&M1\",\n{\n            'v': 42.0,\n            'f': \"42.0\",\n        },\n{\n            'v': 1996,\n            'f': \"1996\",\n        },\n{\n            'v': 42,\n            'f': \"42\",\n        },\n\"Square\",\n\"Concrete\",\n{\n            'v': 13.75,\n            'f': \"13.75\",\n        },\n\"Driven\",\n{\n            'v': 0.2025,\n            'f': \"0.2025\",\n        },\n{\n            'v': 450.0,\n            'f': \"450.0\",\n        },\n{\n            'v': 4250.0,\n            'f': \"4250.0\",\n        },\n\"0.0\",\n{\n            'v': 17.0,\n            'f': \"17.0\",\n        },\ntrue,\ntrue,\nfalse,\ntrue,\nfalse,\nfalse],\n [{\n            'v': 4,\n            'f': \"4\",\n        },\n\"001-BGHD1\",\n\"001-BGHD1\",\n{\n            'v': 45.0,\n            'f': \"45.0\",\n        },\n{\n            'v': 1996,\n            'f': \"1996\",\n        },\n{\n            'v': 45,\n            'f': \"45\",\n        },\n\"Square\",\n\"Concrete\",\n{\n            'v': 11.0,\n            'f': \"11.0\",\n        },\n\"Driven\",\n{\n            'v': 0.081225,\n            'f': \"0.081225\",\n        },\n{\n            'v': 285.0,\n            'f': \"285.0\",\n        },\n{\n            'v': 1000.0,\n            'f': \"1000.0\",\n        },\n\"6.0\",\n{\n            'v': 20.0,\n            'f': \"20.0\",\n        },\ntrue,\ntrue,\nfalse,\ntrue,\nfalse,\nfalse],\n [{\n            'v': 5,\n            'f': \"5\",\n        },\n\"001-KP1\",\n\"001-KP1-H\",\n{\n            'v': 63.0,\n            'f': \"63.0\",\n        },\n{\n            'v': 1996,\n            'f': \"1996\",\n        },\n{\n            'v': 63,\n            'f': \"63\",\n        },\n\"H Pile\",\n\"Steel\",\n{\n            'v': 14.0,\n            'f': \"14.0\",\n        },\n\"Driven\",\n{\n            'v': 0.046,\n            'f': \"0.046\",\n        },\n{\n            'v': 400.0,\n            'f': \"400.0\",\n        },\n{\n            'v': 3500.0,\n            'f': \"3500.0\",\n        },\n\"1.0\",\n{\n            'v': 17.0,\n            'f': \"17.0\",\n        },\ntrue,\ntrue,\nfalse,\ntrue,\nfalse,\nfalse],\n [{\n            'v': 6,\n            'f': \"6\",\n        },\n\"001-L&D37\",\n\"001-L&D37\",\n{\n            'v': 75.0,\n            'f': \"75.0\",\n        },\n{\n            'v': 1996,\n            'f': \"1996\",\n        },\n{\n            'v': 75,\n            'f': \"75\",\n        },\n\"Pipe\",\n\"Steel\",\n{\n            'v': 14.6,\n            'f': \"14.6\",\n        },\n\"Driven\",\n{\n            'v': 0.125663706143592,\n            'f': \"0.125663706143592\",\n        },\n{\n            'v': 400.0,\n            'f': \"400.0\",\n        },\n{\n            'v': 1800.0,\n            'f': \"1800.0\",\n        },\n\"0.0\",\n{\n            'v': 19.0,\n            'f': \"19.0\",\n        },\ntrue,\ntrue,\nfalse,\ntrue,\nfalse,\nfalse],\n [{\n            'v': 7,\n            'f': \"7\",\n        },\n\"001-LSUB12\",\n\"001-LSUB12\",\n{\n            'v': 81.0,\n            'f': \"81.0\",\n        },\n{\n            'v': 1996,\n            'f': \"1996\",\n        },\n{\n            'v': 81,\n            'f': \"81\",\n        },\n\"Round\",\n\"Concrete\",\n{\n            'v': 37.8,\n            'f': \"37.8\",\n        },\n\"Driven\",\n{\n            'v': 0.636172512351933,\n            'f': \"0.636172512351933\",\n        },\n{\n            'v': 900.0,\n            'f': \"900.0\",\n        },\n{\n            'v': 3960.0,\n            'f': \"3960.0\",\n        },\n\"0.0\",\n{\n            'v': 42.4,\n            'f': \"42.4\",\n        },\ntrue,\ntrue,\nfalse,\nfalse,\nfalse,\ntrue],\n [{\n            'v': 8,\n            'f': \"8\",\n        },\n\"001-LTN484\",\n\"001-LTN484\",\n{\n            'v': 90.0,\n            'f': \"90.0\",\n        },\n{\n            'v': 1996,\n            'f': \"1996\",\n        },\n{\n            'v': 90,\n            'f': \"90\",\n        },\n\"Round\",\n\"Concrete\",\n{\n            'v': 7.6,\n            'f': \"7.6\",\n        },\n\"Bored\",\n{\n            'v': 0.159043128087983,\n            'f': \"0.159043128087983\",\n        },\n{\n            'v': 450.0,\n            'f': \"450.0\",\n        },\n{\n            'v': 750.0,\n            'f': \"750.0\",\n        },\n\"0.0\",\n{\n            'v': 11.4,\n            'f': \"11.4\",\n        },\ntrue,\ntrue,\nfalse,\nfalse,\nfalse,\ntrue],\n [{\n            'v': 9,\n            'f': \"9\",\n        },\n\"001-N&SBI43\",\n\"001-N&SBI43\",\n{\n            'v': 102.0,\n            'f': \"102.0\",\n        },\n{\n            'v': 1996,\n            'f': \"1996\",\n        },\n{\n            'v': 102,\n            'f': \"102\",\n        },\n\"Pipe\",\n\"Steel\",\n{\n            'v': 22.5,\n            'f': \"22.5\",\n        },\n\"Driven\",\n{\n            'v': 0.0585349397198484,\n            'f': \"0.0585349397198484\",\n        },\n{\n            'v': 273.0,\n            'f': \"273.0\",\n        },\n{\n            'v': 1620.0,\n            'f': \"1620.0\",\n        },\n\"0.0\",\n{\n            'v': 24.6,\n            'f': \"24.6\",\n        },\ntrue,\ntrue,\nfalse,\ntrue,\nfalse,\nfalse]],\n        columns: [[\"number\", \"index\"], [\"string\", \"Case ID\"], [\"string\", \"FileName\"], [\"number\", \"Case No\"], [\"number\", \"PY\"], [\"number\", \"Pile No\"], [\"string\", \"Shape\"], [\"string\", \"Material\"], [\"number\", \"Embedment Length, D (m)\"], [\"string\", \"Installation\"], [\"number\", \"Cross Sectional Area, At (m2)\"], [\"number\", \"Equivalent Diameters\"], [\"number\", \"Total Capacity, Ru, kN (Test No1)\"], [\"string\", \"GWL (m)\"], [\"number\", \"CPT Depth (m)\"], [\"string\", \"qc\"], [\"string\", \"fs\"], [\"string\", \"u\"], [\"string\", \"Sand\"], [\"string\", \"Clay\"], [\"string\", \"Mix\"]],\n        columnOptions: [{\"width\": \"1px\", \"className\": \"index_column\"}],\n        rowsPerPage: 25,\n        helpUrl: \"https://colab.research.google.com/notebooks/data_table.ipynb\",\n        suppressOutputScrolling: true,\n        minimumWidth: undefined,\n      });\n    "
          },
          "metadata": {},
          "execution_count": 10
        }
      ]
    },
    {
      "cell_type": "code",
      "source": [
        "df = df.dropna(subset=['Embedment Length, D (m)'])\n",
        "df = df.dropna(subset=['Equivalent Diameters'])"
      ],
      "metadata": {
        "id": "jKE2vjruZMiq"
      },
      "execution_count": 35,
      "outputs": []
    },
    {
      "cell_type": "code",
      "source": [
        "def cpt_feature_extractor(cpt, L, D):\n",
        "  fss = list()\n",
        "  qcc = list()\n",
        "  for index in cpt.index:\n",
        "    if cpt['Z (m)'][index] < L:\n",
        "      fss.append(cpt['fs (MPa)'][row])\n",
        "    if cpt['Z (m)'][index] < (L + D) & cpt['Z (m)'][index] > (L - D):\n",
        "      qcc.append(cpt['fs (MPa)'][index])\n",
        "  cpt_t = sum(qcc) / len(qcc)\n",
        "  cpt_s = sum(fss) / len(fss)\n",
        "  return cpt_t, cpt_s"
      ],
      "metadata": {
        "id": "6sXiyYQW2Ngd"
      },
      "execution_count": 39,
      "outputs": []
    },
    {
      "cell_type": "code",
      "source": [
        "df['CPT_s'] = df.apply(lambda _: '', axis=1)\n",
        "df['CPT_t'] = df.apply(lambda _: '', axis=1)\n",
        "\n",
        "\n",
        "for index in df.index:\n",
        " \n",
        "  print(CPT[df['FileName'][index]], df['Embedment Length, D (m)'][index], df['Equivalent Diameters'][index])\n",
        "\n",
        "  df['CPT_s'][index] = cpt_s\n",
        "  \n",
        "  df['CPT_t'][index] = cpt_t"
      ],
      "metadata": {
        "id": "85KCKOb7QUlO"
      },
      "execution_count": null,
      "outputs": []
    },
    {
      "cell_type": "code",
      "source": [
        "X = df [['CPT_s', 'CPT_t', 'Embedment Length, D (m)', 'Equivalent Diameters', 'Material']]\n",
        "\n",
        "y = df ['Total Capacity, Ru, kN (Test No1)']"
      ],
      "metadata": {
        "id": "TbikZqLrbWf8"
      },
      "execution_count": null,
      "outputs": []
    },
    {
      "cell_type": "code",
      "source": [
        "X_train, X_test, y_train, y_test = train_test_split(X, y, test_size=0.2, random_state=1, stratify=y)"
      ],
      "metadata": {
        "id": "-UAuh3ffcVKf"
      },
      "execution_count": null,
      "outputs": []
    },
    {
      "cell_type": "code",
      "source": [
        "model = tf.keras.Sequential()\n",
        "model.add(tf.keras.layers.Dense(units=20, input_dim=111, activation=\"relu\"))\n",
        "model.add(tf.keras.layers.Dense(units=100, activation=\"relu\"))\n",
        "model.add(tf.keras.layers.Dense(units=100, activation=\"relu\"))\n",
        "model.add(tf.keras.layers.Dense(units=1, activation=\"sigmoid\"))\n",
        "model.compile(optimizer='adam',\n",
        "            loss=\"binary_crossentropy\",\n",
        "            metrics=['accuracy'])\n",
        "model.summary()"
      ],
      "metadata": {
        "id": "6rQW47cwcyo5"
      },
      "execution_count": null,
      "outputs": []
    },
    {
      "cell_type": "code",
      "source": [
        "history = model.fit(X_train, y_train, epochs=20, validation_data=(X_test, y_test), validation_freq=1)"
      ],
      "metadata": {
        "id": "uKAhXUR7c9XQ"
      },
      "execution_count": null,
      "outputs": []
    },
    {
      "cell_type": "code",
      "source": [
        "test_loss, test_acc = model.evaluate(X_test, y_test, verbose=2)"
      ],
      "metadata": {
        "id": "kiLpLX2BdEAi"
      },
      "execution_count": null,
      "outputs": []
    }
  ]
}